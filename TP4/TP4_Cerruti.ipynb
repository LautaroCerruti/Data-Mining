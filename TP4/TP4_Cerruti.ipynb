{
  "cells": [
    {
      "cell_type": "markdown",
      "metadata": {
        "id": "d1EFTCyS4RVb"
      },
      "source": [
        "# TP4"
      ]
    },
    {
      "cell_type": "markdown",
      "metadata": {
        "id": "VPfFa4TyJV3y"
      },
      "source": [
        "#Imports"
      ]
    },
    {
      "cell_type": "code",
      "execution_count": 1,
      "metadata": {
        "colab": {
          "base_uri": "https://localhost:8080/"
        },
        "id": "2g9lfsJYVetp",
        "outputId": "9d346d5b-3e54-4c50-ae6b-61b19ef817a6"
      },
      "outputs": [
        {
          "output_type": "stream",
          "name": "stderr",
          "text": [
            "Installing package into ‘/usr/local/lib/R/site-library’\n",
            "(as ‘lib’ is unspecified)\n",
            "\n"
          ]
        }
      ],
      "source": [
        "install.packages(\"xgboost\")\n",
        "library(xgboost)"
      ]
    },
    {
      "cell_type": "code",
      "execution_count": 2,
      "metadata": {
        "colab": {
          "base_uri": "https://localhost:8080/"
        },
        "id": "mejGEb6SDP-B",
        "outputId": "138a4876-b1a5-4348-9e4d-f07a43db9df1"
      },
      "outputs": [
        {
          "output_type": "stream",
          "name": "stderr",
          "text": [
            "Installing package into ‘/usr/local/lib/R/site-library’\n",
            "(as ‘lib’ is unspecified)\n",
            "\n",
            "randomForest 4.7-1.2\n",
            "\n",
            "Type rfNews() to see new features/changes/bug fixes.\n",
            "\n"
          ]
        }
      ],
      "source": [
        "install.packages(\"randomForest\")\n",
        "library(\"randomForest\")"
      ]
    },
    {
      "cell_type": "code",
      "execution_count": 3,
      "metadata": {
        "colab": {
          "base_uri": "https://localhost:8080/"
        },
        "id": "jODkkkoSfMtL",
        "outputId": "7c0fdd4c-d220-4b05-8e7d-3ca4a38d7339"
      },
      "outputs": [
        {
          "output_type": "stream",
          "name": "stderr",
          "text": [
            "Installing package into ‘/usr/local/lib/R/site-library’\n",
            "(as ‘lib’ is unspecified)\n",
            "\n",
            "also installing the dependency ‘proxy’\n",
            "\n",
            "\n"
          ]
        }
      ],
      "source": [
        "install.packages(\"e1071\")\n",
        "library(e1071)"
      ]
    },
    {
      "cell_type": "code",
      "source": [
        "library(knitr)"
      ],
      "metadata": {
        "id": "moZNLtJvlAnF"
      },
      "execution_count": 4,
      "outputs": []
    },
    {
      "cell_type": "code",
      "execution_count": 5,
      "metadata": {
        "colab": {
          "base_uri": "https://localhost:8080/",
          "height": 34
        },
        "id": "gmI2dzkf-Hzw",
        "outputId": "d560afbb-63bf-4844-a9e6-c538cbe480b0"
      },
      "outputs": [
        {
          "output_type": "display_data",
          "data": {
            "text/html": [
              "<style>\n",
              ".list-inline {list-style: none; margin:0; padding: 0}\n",
              ".list-inline>li {display: inline-block}\n",
              ".list-inline>li:not(:last-child)::after {content: \"\\00b7\"; padding: 0 .5ex}\n",
              "</style>\n",
              "<ol class=list-inline><li>'diag_test'</li><li>'diag_train'</li><li>'esp_test'</li><li>'esp_train'</li><li>'RRL'</li></ol>\n"
            ],
            "text/markdown": "1. 'diag_test'\n2. 'diag_train'\n3. 'esp_test'\n4. 'esp_train'\n5. 'RRL'\n\n\n",
            "text/latex": "\\begin{enumerate*}\n\\item 'diag\\_test'\n\\item 'diag\\_train'\n\\item 'esp\\_test'\n\\item 'esp\\_train'\n\\item 'RRL'\n\\end{enumerate*}\n",
            "text/plain": [
              "[1] \"diag_test\"  \"diag_train\" \"esp_test\"   \"esp_train\"  \"RRL\"       "
            ]
          },
          "metadata": {}
        }
      ],
      "source": [
        "load(\"/content/TP4.Rdata\")\n",
        "ls()"
      ]
    },
    {
      "cell_type": "markdown",
      "metadata": {
        "id": "wwctV7Jww7bQ"
      },
      "source": [
        "### Funciones Auxiliares K-Fold"
      ]
    },
    {
      "cell_type": "code",
      "execution_count": 6,
      "metadata": {
        "id": "3WCWeilvxBpF"
      },
      "outputs": [],
      "source": [
        "k_fold_cv_xgboost <- function(data, column, folds, XGB.eta, XGB.nrounds, XGB.max.depth, num_folds = 5) {\n",
        "  # Inicializar vector para almacenar la precisión de cada pliegue\n",
        "  accuracies <- numeric(num_folds)\n",
        "\n",
        "  for (i in 1:num_folds) {\n",
        "      # Separar los datos de entrenamiento y validación\n",
        "      test_indices <- which(folds == i, arr.ind = TRUE)\n",
        "      test_data <- data[test_indices, ]\n",
        "      train_data <- data[-test_indices, ]\n",
        "\n",
        "      test_x <- test_data[, -ncol(test_data)]    # Todas las columnas menos la clase\n",
        "      test_y <- test_data[[column]]\n",
        "\n",
        "      m.xgb <- xgboost(\n",
        "        data = as.matrix(train_data[, -ncol(train_data)]),\n",
        "        label = as.integer(train_data[[column]]) - 1,\n",
        "        objective = \"binary:hinge\",\n",
        "        nrounds = XGB.nrounds,\n",
        "        early_stopping_rounds = 1000,\n",
        "        eta = XGB.eta,\n",
        "        max.depth = XGB.max.depth,\n",
        "        colsample_bytree = 1,\n",
        "        verbose = 0,\n",
        "        subsample = 1\n",
        "      )\n",
        "\n",
        "      test_pred <- predict(m.xgb, as.matrix(test_x))\n",
        "      error <- mean(test_pred != (as.integer(test_y) - 1))\n",
        "      accuracies[i] <- error\n",
        "    }\n",
        "\n",
        "    # Retornar la precisión promedio de todos los pliegues\n",
        "    mean_accuracy <- mean(accuracies)\n",
        "    return(mean_accuracy)\n",
        "}"
      ]
    },
    {
      "cell_type": "code",
      "execution_count": 7,
      "metadata": {
        "id": "jH6JiJmAxFc5"
      },
      "outputs": [],
      "source": [
        "k_fold_cv_svm_RBF <- function(data, column, folds, c, gamma, num_folds = 5) {\n",
        "  # Inicializar vector para almacenar la precisión de cada pliegue\n",
        "  accuracies <- numeric(num_folds)\n",
        "\n",
        "  for (i in 1:num_folds) {\n",
        "      # Separar los datos de entrenamiento y validación\n",
        "      test_indices <- which(folds == i, arr.ind = TRUE)\n",
        "      test_data <- data[test_indices, ]\n",
        "      train_data <- data[-test_indices, ]\n",
        "\n",
        "      test_x <- test_data[, -ncol(test_data)]    # Todas las columnas menos la clase\n",
        "      test_y <- test_data[[column]]\n",
        "\n",
        "      svm_model <- svm(\n",
        "        as.formula(paste(column, \"~ .\")),\n",
        "        data = train_data,\n",
        "        type = 'C-classification',\n",
        "        kernel = \"radial\",\n",
        "        cost = c,\n",
        "        gamma = gamma\n",
        "      )\n",
        "\n",
        "      test_pred <- predict(svm_model, test_x)\n",
        "      error <- mean(test_pred != test_y)\n",
        "      accuracies[i] <- error\n",
        "    }\n",
        "\n",
        "    # Retornar la precisión promedio de todos los pliegues\n",
        "    mean_accuracy <- mean(accuracies)\n",
        "    return(mean_accuracy)\n",
        "}"
      ]
    },
    {
      "cell_type": "code",
      "execution_count": 8,
      "metadata": {
        "id": "UiW3G2AXxIsp"
      },
      "outputs": [],
      "source": [
        "k_fold_cv_svm_polinomial <- function(data, column, folds, c, gamma, k, num_folds = 5) {\n",
        "  # Inicializar vector para almacenar la precisión de cada pliegue\n",
        "  accuracies <- numeric(num_folds)\n",
        "\n",
        "  for (i in 1:num_folds) {\n",
        "      # Separar los datos de entrenamiento y validación\n",
        "      test_indices <- which(folds == i, arr.ind = TRUE)\n",
        "      test_data <- data[test_indices, ]\n",
        "      train_data <- data[-test_indices, ]\n",
        "\n",
        "      test_x <- test_data[, -ncol(test_data)]    # Todas las columnas menos la clase\n",
        "      test_y <- test_data[[column]]\n",
        "\n",
        "      svm_model <- svm(\n",
        "        as.formula(paste(column, \"~ .\")),\n",
        "        data = train_data,\n",
        "        type = 'C-classification',\n",
        "        kernel = \"polynomial\",\n",
        "        degree = k,\n",
        "        cost = c,\n",
        "        gamma = gamma\n",
        "      )\n",
        "\n",
        "      test_pred <- predict(svm_model, test_x)\n",
        "      error <- mean(test_pred != test_y)\n",
        "      accuracies[i] <- error\n",
        "    }\n",
        "\n",
        "    # Retornar la precisión promedio de todos los pliegues\n",
        "    mean_accuracy <- mean(accuracies)\n",
        "    return(mean_accuracy)\n",
        "}"
      ]
    },
    {
      "cell_type": "markdown",
      "metadata": {
        "id": "hQucYg716f9k"
      },
      "source": [
        "# Ej 1"
      ]
    },
    {
      "cell_type": "markdown",
      "metadata": {
        "id": "XW4NmdC9DRqN"
      },
      "source": [
        "## Espirales"
      ]
    },
    {
      "cell_type": "markdown",
      "metadata": {
        "id": "4yC_ACnGN8BE"
      },
      "source": [
        "### Predicción"
      ]
    },
    {
      "cell_type": "code",
      "execution_count": null,
      "metadata": {
        "id": "WgNtpRaCIPe4"
      },
      "outputs": [],
      "source": [
        "maxProf <- 20\n",
        "XGB.nrounds <- 200 #total de arboles/ciclos\n",
        "XGB.eta <- 0.1 #learning rate, similar a redes\n",
        "\n",
        "x.train <- as.matrix(esp_train[,1:2])\n",
        "y.train <- esp_train[,3]\n",
        "\n",
        "x.test <- as.matrix(esp_test[, 1:2])\n",
        "y.test <- esp_test[, 3]\n",
        "\n",
        "errors_train <- numeric(maxProf)\n",
        "errors_test <- numeric(maxProf)\n",
        "\n",
        "for (XGB.max.depth in 1:maxProf) {\n",
        "  m.xgb <- xgboost(\n",
        "    data = x.train,\n",
        "    label = as.integer(y.train) - 1,\n",
        "    objective = \"binary:hinge\",\n",
        "    nrounds = XGB.nrounds,\n",
        "    early_stopping_rounds = 1000,\n",
        "    eta = XGB.eta,\n",
        "    max.depth = XGB.max.depth,\n",
        "    colsample_bytree = 1,\n",
        "    verbose = 0,\n",
        "    subsample = 1\n",
        "  )\n",
        "\n",
        "  train.pred <- predict(m.xgb, x.train)\n",
        "  error <- mean(train.pred != (as.integer(y.train) - 1))\n",
        "  errors_train[XGB.max.depth] <- error\n",
        "\n",
        "  test.pred <- predict(m.xgb, x.test)\n",
        "  error <- mean(test.pred != (as.integer(y.test) - 1))\n",
        "  errors_test[XGB.max.depth] <- error\n",
        "}"
      ]
    },
    {
      "cell_type": "markdown",
      "metadata": {
        "id": "wfnLvwlPZ70T"
      },
      "source": [
        "### Gráfica"
      ]
    },
    {
      "cell_type": "code",
      "execution_count": null,
      "metadata": {
        "colab": {
          "base_uri": "https://localhost:8080/",
          "height": 437
        },
        "id": "Qv5ItiY1alIt",
        "outputId": "7d6bfa26-c9ee-472e-bfde-7d98ddee1d74"
      },
      "outputs": [
        {
          "output_type": "display_data",
          "data": {
            "text/plain": [
              "Plot with title “Error en Train y Test vs Profundidad Máxima”"
            ],
            "image/png": "[encoded data removed]"
          },
          "metadata": {
            "image/png": {
              "width": 420,
              "height": 420
            }
          }
        }
      ],
      "source": [
        "plot(\n",
        "  1:maxProf,\n",
        "  errors_train,\n",
        "  type = \"b\",\n",
        "  col = \"blue\",\n",
        "  pch = 19,\n",
        "  xlab = \"Profundidad Máxima (max.depth)\",\n",
        "  ylab = \"Error\",\n",
        "  main = \"Error en Train y Test vs Profundidad Máxima\",\n",
        "  ylim = range(c(errors_train, errors_test))\n",
        ")\n",
        "\n",
        "lines(\n",
        "  1:maxProf,\n",
        "  errors_test,\n",
        "  type = \"b\",\n",
        "  col = \"red\",\n",
        "  pch = 19\n",
        ")\n",
        "\n",
        "legend(\n",
        "  \"topright\",\n",
        "  legend = c(\"Train\", \"Test\"),\n",
        "  col = c(\"blue\", \"red\"),\n",
        "  pch = 19,\n",
        "  lty = 1\n",
        ")"
      ]
    },
    {
      "cell_type": "markdown",
      "source": [
        "### Análisis\n",
        "Podemos ver que a partir de una profundidad de 5 los resultados en test empeoran levementes quedando estables a partir de 14 de profundidad. El error de train llega a cero en la profundidad 4.\n",
        "\n",
        "Lo que puedo ver es que tener árboles muy complejos empeora el resultado un poco pero a partir de cierta profundidad queda estable, probablemente porque al tener pocos puntos cada árbol esta haciendo un overfitting completo de los datos, incluido los puntos ruidosos. Al usar menos profundidad en los árboles se hace un menor overfitting en cada árbol particular al ruído que tiene el dataset lo que permite que el algoritmo aprenda entre cada iteración."
      ],
      "metadata": {
        "id": "kHAhIiTe-w0l"
      }
    },
    {
      "cell_type": "markdown",
      "metadata": {
        "id": "bFX7n4NKDVde"
      },
      "source": [
        "## Diagonales"
      ]
    },
    {
      "cell_type": "markdown",
      "metadata": {
        "id": "R-bLshBwbuNR"
      },
      "source": [
        "### Predicción"
      ]
    },
    {
      "cell_type": "code",
      "execution_count": null,
      "metadata": {
        "id": "esIyhyBSbuNS"
      },
      "outputs": [],
      "source": [
        "maxProf <- 20\n",
        "XGB.nrounds <- 200 #total de arboles/ciclos\n",
        "XGB.eta <- 0.1 #learning rate, similar a redes\n",
        "\n",
        "x.train <- as.matrix(diag_train[,1:2])\n",
        "y.train <- diag_train[,3]\n",
        "\n",
        "x.test <- as.matrix(diag_test[, 1:2])\n",
        "y.test <- diag_test[, 3]\n",
        "\n",
        "errors_train <- numeric(maxProf)\n",
        "errors_test <- numeric(maxProf)\n",
        "\n",
        "for (XGB.max.depth in 1:maxProf) {\n",
        "  m.xgb <- xgboost(\n",
        "    data = x.train,\n",
        "    label = as.integer(y.train) - 1,\n",
        "    objective = \"binary:hinge\",\n",
        "    nrounds = XGB.nrounds,\n",
        "    early_stopping_rounds = 1000,\n",
        "    eta = XGB.eta,\n",
        "    max.depth = XGB.max.depth,\n",
        "    colsample_bytree = 1,\n",
        "    verbose = 0,\n",
        "    subsample = 1\n",
        "  )\n",
        "\n",
        "  train.pred <- predict(m.xgb, x.train)\n",
        "  error <- mean(train.pred != (as.integer(y.train) - 1))\n",
        "  errors_train[XGB.max.depth] <- error\n",
        "\n",
        "  test.pred <- predict(m.xgb, x.test)\n",
        "  error <- mean(test.pred != (as.integer(y.test) - 1))\n",
        "  errors_test[XGB.max.depth] <- error\n",
        "}"
      ]
    },
    {
      "cell_type": "markdown",
      "metadata": {
        "id": "iY1uBLtucHE4"
      },
      "source": [
        "### Gráfica"
      ]
    },
    {
      "cell_type": "code",
      "execution_count": null,
      "metadata": {
        "colab": {
          "base_uri": "https://localhost:8080/",
          "height": 437
        },
        "id": "1bLQ4gINcHE4",
        "outputId": "46c205c2-0d94-4915-ff60-c0a79c8fcade"
      },
      "outputs": [
        {
          "output_type": "display_data",
          "data": {
            "text/plain": [
              "Plot with title “Error en Train y Test vs Profundidad Máxima”"
            ],
            "image/png": "[encoded data removed]"
          },
          "metadata": {
            "image/png": {
              "width": 420,
              "height": 420
            }
          }
        }
      ],
      "source": [
        "plot(\n",
        "  1:maxProf,\n",
        "  errors_train,\n",
        "  type = \"b\",\n",
        "  col = \"blue\",\n",
        "  pch = 19,\n",
        "  xlab = \"Profundidad Máxima (max.depth)\",\n",
        "  ylab = \"Error\",\n",
        "  main = \"Error en Train y Test vs Profundidad Máxima\",\n",
        "  ylim = range(c(errors_train, errors_test))\n",
        ")\n",
        "\n",
        "lines(\n",
        "  1:maxProf,\n",
        "  errors_test,\n",
        "  type = \"b\",\n",
        "  col = \"red\",\n",
        "  pch = 19\n",
        ")\n",
        "\n",
        "legend(\n",
        "  \"topright\",\n",
        "  legend = c(\"Train\", \"Test\"),\n",
        "  col = c(\"blue\", \"red\"),\n",
        "  pch = 19,\n",
        "  lty = 1\n",
        ")"
      ]
    },
    {
      "cell_type": "markdown",
      "source": [
        "### Análisis\n",
        "En este dataset podemos ver como aumentar la profundidad claramente empeoran los resultados ya que los árboles de profundidad 1 son los que obtuvieron el mejor desempeño.\n",
        "\n",
        "Cuando los árboles se vuelven muy grandes debe estar ocurriendo un overfitting al igual que en el problema anterior, donde todos los puntos son bien clasificados incluidos los ruidosos, a partir de ese punto el método deja de aprender ya que no hay errores para minimizar."
      ],
      "metadata": {
        "id": "_fj5sO2FKPjM"
      }
    },
    {
      "cell_type": "markdown",
      "source": [
        "## Análisis general Ej 1\n",
        "\n",
        "Claramente al aumentar la profundidad de los árboles el clasificador empeora debido a que los weaklearners estan dejando de ser simples y de tener un problema de sesgo a ser muy complejos y empezar a tener mas varianza y overfitting (cada árbol de forma individual) haciendo que se deje de dar mas prioridad a puntos \"mal clasificados\" debido a que estamos clasificando todos \"correctamente\" (inlcuso los puntos ruidosos)."
      ],
      "metadata": {
        "id": "1vUf7X4Amaht"
      }
    },
    {
      "cell_type": "markdown",
      "metadata": {
        "id": "RQAC9E1pLy38"
      },
      "source": [
        "# Ej 2"
      ]
    },
    {
      "cell_type": "code",
      "execution_count": null,
      "metadata": {
        "id": "dL-ii9K-EvVm"
      },
      "outputs": [],
      "source": [
        "mtry_values <- floor((ncol(RRL)-1) * (1 / 2)^(0:6))\n",
        "errors_avg <- c()\n",
        "tree_count <- 1000\n",
        "num_runs <- 5\n",
        "\n",
        "for (mtry in mtry_values) {\n",
        "  errors <- numeric(num_runs)\n",
        "\n",
        "  for (i in 1:num_runs) {\n",
        "    rf_model <- randomForest(\n",
        "      Tipo ~ .,\n",
        "      data = RRL,\n",
        "      mtry = mtry,\n",
        "      ntree = tree_count\n",
        "    )\n",
        "\n",
        "    errors[i] <- rf_model$err.rate[nrow(rf_model$err.rate), \"OOB\"]\n",
        "  }\n",
        "  errors_avg <- c(errors_avg, mean(errors))\n",
        "}"
      ]
    },
    {
      "cell_type": "code",
      "source": [
        "for (i in 1:length(mtry_values)) {\n",
        "  cat(\"Mtry\", mtry_values[i], \"had error\", errors_avg[i], \"\\n\")\n",
        "}"
      ],
      "metadata": {
        "colab": {
          "base_uri": "https://localhost:8080/"
        },
        "id": "LCyJGqnQbZrl",
        "outputId": "a51bf5cb-708e-4b6b-dbab-947792891ed5"
      },
      "execution_count": null,
      "outputs": [
        {
          "output_type": "stream",
          "name": "stdout",
          "text": [
            "Mtry 69 had error 0.04235127 \n",
            "Mtry 34 had error 0.03926346 \n",
            "Mtry 17 had error 0.03926346 \n",
            "Mtry 8 had error 0.03909348 \n",
            "Mtry 4 had error 0.03971671 \n",
            "Mtry 2 had error 0.04164306 \n",
            "Mtry 1 had error 0.04589235 \n"
          ]
        }
      ]
    },
    {
      "cell_type": "code",
      "execution_count": null,
      "metadata": {
        "colab": {
          "base_uri": "https://localhost:8080/",
          "height": 437
        },
        "id": "dYG5toMl1NCl",
        "outputId": "621448a6-b900-40fa-ebc3-f14004311c06"
      },
      "outputs": [
        {
          "output_type": "display_data",
          "data": {
            "text/plain": [
              "Plot with title “Efecto de mtry en el Error de Clasificación”"
            ],
            "image/png": "[encoded data removed]"
          },
          "metadata": {
            "image/png": {
              "width": 420,
              "height": 420
            }
          }
        }
      ],
      "source": [
        "plot(\n",
        "  mtry_values,\n",
        "  errors_avg,\n",
        "  type = \"b\",\n",
        "  xlab = \"Número de Features Evaluadas (mtry)\",\n",
        "  ylab = \"Error de Clasificación OOB\",\n",
        "  main = \"Efecto de mtry en el Error de Clasificación\",\n",
        "  col = \"darkgreen\",\n",
        "  pch = 19,\n",
        "  log = \"x\"\n",
        ")\n"
      ]
    },
    {
      "cell_type": "markdown",
      "source": [
        "## Análisis\n",
        "Como era esperable el mejor resultado se dió con un mtry de 8 que es el valor mas cercano a la raiz cuadrada de 69 que es el valor por defecto utilizado normalmente.\n",
        "\n",
        "Al utilizar una única feature en cada paso estamos teniendo un error muy malo ya que en ningún momento decidimos cual es la mejor variable para realizar un corte (ya sea usando entropia o gini) si no que siempre usamos la variable aleatoria que obtenemos.\n",
        "\n",
        "Al utilizar las 69 variables estamos replicando Bagging y se puede apreciar como la poca varianza entre los árboles que genera hace que el error sea peor.\n",
        "\n",
        "Para los otros valores podemos ver que todos son bastante buenos menos el de 2 variables ya que este recae en el mismo problema que elegir una sola.\n",
        "\n",
        "Esto nos demuestra que el método random forest es muy bueno ya que tiene un único parametro a optimizar y realmente podríamos usar el recomendado de sqrt(p) y obtener un muy buen modelo sin tener que optimizar nada."
      ],
      "metadata": {
        "id": "Cn0pHNZKMfSR"
      }
    },
    {
      "cell_type": "markdown",
      "metadata": {
        "id": "SN4upKoAV0Ks"
      },
      "source": [
        "# Ej 3"
      ]
    },
    {
      "cell_type": "markdown",
      "metadata": {
        "id": "D7cZS-1ShpeD"
      },
      "source": [
        "## Cargar Dataset"
      ]
    },
    {
      "cell_type": "markdown",
      "metadata": {
        "id": "As9bSpStuPHB"
      },
      "source": [
        "Como primero tenemos que buscar los mejores parámetros para los distintos métodos y luego comparar los resultados entre ellos, decidí dividir el dataset en 80% para optimizacion de parámetros y entrenamiento de los mejores modelos y dejar el 20% restante para poder evaluarlos y compararlos con un conjunto de datos independiente. Con este problema hace que se complique porque tenemos pocos puntos, y dedicar el 20% (9 puntos) para testing nos deja con solo 40 puntos para entrenar."
      ]
    },
    {
      "cell_type": "code",
      "execution_count": 222,
      "metadata": {
        "id": "YVdBgAR9Kk8S"
      },
      "outputs": [],
      "source": [
        "load(\"/content/lampone.Rdata\")\n",
        "#summary(lampone)\n",
        "lampone <- lampone[sample(1:nrow(lampone)), ]\n",
        "lampone <- lampone[, -c(1, 144)]\n",
        "\n",
        "test_indices <- sample(1:nrow(lampone), size = (0.2 * nrow(lampone)))\n",
        "test <- lampone[test_indices, ]\n",
        "train <- lampone[-test_indices, ]"
      ]
    },
    {
      "cell_type": "code",
      "source": [
        "nrow(test)\n",
        "nrow(train)"
      ],
      "metadata": {
        "colab": {
          "base_uri": "https://localhost:8080/",
          "height": 52
        },
        "id": "Sd9FG3VV6wg7",
        "outputId": "c46d9da4-fb08-4c83-9abf-04d80c9f393c"
      },
      "execution_count": 223,
      "outputs": [
        {
          "output_type": "display_data",
          "data": {
            "text/html": [
              "9"
            ],
            "text/markdown": "9",
            "text/latex": "9",
            "text/plain": [
              "[1] 9"
            ]
          },
          "metadata": {}
        },
        {
          "output_type": "display_data",
          "data": {
            "text/html": [
              "40"
            ],
            "text/markdown": "40",
            "text/latex": "40",
            "text/plain": [
              "[1] 40"
            ]
          },
          "metadata": {}
        }
      ]
    },
    {
      "cell_type": "markdown",
      "metadata": {
        "id": "dLf7BeBNhrk3"
      },
      "source": [
        "## Optimizacion de parámetros"
      ]
    },
    {
      "cell_type": "markdown",
      "metadata": {
        "id": "gHap3vVTj1La"
      },
      "source": [
        "### Random Forest"
      ]
    },
    {
      "cell_type": "markdown",
      "metadata": {
        "id": "uTdluaO6ytJ2"
      },
      "source": [
        "Para RandomForest simplemente decidimos la profundidad según el OOB error mas bajo"
      ]
    },
    {
      "cell_type": "code",
      "execution_count": 224,
      "metadata": {
        "id": "f4wCEH6MwDLR"
      },
      "outputs": [],
      "source": [
        "results <- data.frame(Mtry = numeric(), Error = numeric(), stringsAsFactors = FALSE)\n",
        "\n",
        "mtry_values <- floor((ncol(train)-1) * (1 / 2)^(0:7))\n",
        "errors_avg <- c()\n",
        "tree_count <- 1000\n",
        "num_runs <- 5\n",
        "\n",
        "for (mtry in mtry_values) {\n",
        "  errors <- numeric(num_runs)\n",
        "\n",
        "  for (i in 1:num_runs) {\n",
        "    rf_model <- randomForest(\n",
        "      N_tipo ~ .,\n",
        "      data=train,\n",
        "      mtry = mtry,\n",
        "      ntree = tree_count\n",
        "    )\n",
        "\n",
        "    errors[i] <- rf_model$err.rate[nrow(rf_model$err.rate), \"OOB\"]\n",
        "  }\n",
        "  errors_avg <- c(errors_avg, mean(errors))\n",
        "  results <- rbind(results, data.frame(Mtry = mtry, Error = errors_avg[length(errors_avg)]))\n",
        "}"
      ]
    },
    {
      "cell_type": "code",
      "source": [
        "print(kable(results, format.args = list(scientific = FALSE), align = \"r\"))"
      ],
      "metadata": {
        "colab": {
          "base_uri": "https://localhost:8080/"
        },
        "id": "XURnSOlvmkBe",
        "outputId": "643f01f1-deca-4db4-9de9-8354cb0d8501"
      },
      "execution_count": 225,
      "outputs": [
        {
          "output_type": "stream",
          "name": "stdout",
          "text": [
            "\n",
            "\n",
            "| Mtry| Error|\n",
            "|----:|-----:|\n",
            "|  141| 0.125|\n",
            "|   70| 0.140|\n",
            "|   35| 0.120|\n",
            "|   17| 0.105|\n",
            "|    8| 0.110|\n",
            "|    4| 0.105|\n",
            "|    2| 0.140|\n",
            "|    1| 0.155|\n"
          ]
        }
      ]
    },
    {
      "cell_type": "code",
      "source": [
        "min_error <- min(results$Error)\n",
        "best_results_rf <- results[results$Error == min_error, ]\n",
        "print(kable(best_results_rf, format.args = list(scientific = FALSE), align = \"r\"))"
      ],
      "metadata": {
        "colab": {
          "base_uri": "https://localhost:8080/"
        },
        "id": "Yc7RESLIotVj",
        "outputId": "5fc1264d-a083-4a48-fb19-bfb26fa1e022"
      },
      "execution_count": 226,
      "outputs": [
        {
          "output_type": "stream",
          "name": "stdout",
          "text": [
            "\n",
            "\n",
            "|   | Mtry| Error|\n",
            "|:--|----:|-----:|\n",
            "|4  |   17| 0.105|\n"
          ]
        }
      ]
    },
    {
      "cell_type": "markdown",
      "source": [
        "Para random forest determinamos que 17 variables era el mejor resultado, siendo este valor muy cercano a la raiz cuadrada de 141."
      ],
      "metadata": {
        "id": "cvz96DiJGT4b"
      }
    },
    {
      "cell_type": "markdown",
      "metadata": {
        "id": "r5pBWFmVj25T"
      },
      "source": [
        "### XGBoosting"
      ]
    },
    {
      "cell_type": "markdown",
      "metadata": {
        "id": "LDrpM1uwz8kt"
      },
      "source": [
        "Para XGBoosting voy a utilizar 5-fold cross validation para estimar los errores."
      ]
    },
    {
      "cell_type": "code",
      "execution_count": 227,
      "metadata": {
        "id": "h3Vhh1ndy17h"
      },
      "outputs": [],
      "source": [
        "results <- data.frame(LearningRate = numeric(), Prof = integer(), Error = numeric(), stringsAsFactors = FALSE)\n",
        "\n",
        "nrounds <- 500\n",
        "learning_rates <- c(0.01, 0.05, 0.1, 0.3)\n",
        "profs <- 1:20\n",
        "num_folds <- 5\n",
        "folds <- cut(seq(1, nrow(train)), breaks = num_folds, labels = FALSE)\n",
        "\n",
        "for(i in 1:length(learning_rates)) {\n",
        "  for(j in 1:length(profs)) {\n",
        "    error_kfold <- k_fold_cv_xgboost(train, \"N_tipo\", folds, learning_rates[i], nrounds, profs[j], num_folds)\n",
        "    results <- rbind(results, data.frame(LearningRate = learning_rates[i], Prof = profs[j], Error = error_kfold))\n",
        "  }\n",
        "}"
      ]
    },
    {
      "cell_type": "code",
      "source": [
        "print(kable(results, format.args = list(scientific = FALSE), align = \"r\"))"
      ],
      "metadata": {
        "colab": {
          "base_uri": "https://localhost:8080/"
        },
        "id": "k4L2sXwnlPWb",
        "outputId": "3f4a9df6-97a1-46d6-df45-9a600f598e9a"
      },
      "execution_count": 228,
      "outputs": [
        {
          "output_type": "stream",
          "name": "stdout",
          "text": [
            "\n",
            "\n",
            "| LearningRate| Prof| Error|\n",
            "|------------:|----:|-----:|\n",
            "|         0.01|    1| 0.250|\n",
            "|         0.01|    2| 0.175|\n",
            "|         0.01|    3| 0.175|\n",
            "|         0.01|    4| 0.175|\n",
            "|         0.01|    5| 0.175|\n",
            "|         0.01|    6| 0.175|\n",
            "|         0.01|    7| 0.175|\n",
            "|         0.01|    8| 0.175|\n",
            "|         0.01|    9| 0.175|\n",
            "|         0.01|   10| 0.175|\n",
            "|         0.01|   11| 0.175|\n",
            "|         0.01|   12| 0.175|\n",
            "|         0.01|   13| 0.175|\n",
            "|         0.01|   14| 0.175|\n",
            "|         0.01|   15| 0.175|\n",
            "|         0.01|   16| 0.175|\n",
            "|         0.01|   17| 0.175|\n",
            "|         0.01|   18| 0.175|\n",
            "|         0.01|   19| 0.175|\n",
            "|         0.01|   20| 0.175|\n",
            "|         0.05|    1| 0.250|\n",
            "|         0.05|    2| 0.175|\n",
            "|         0.05|    3| 0.175|\n",
            "|         0.05|    4| 0.175|\n",
            "|         0.05|    5| 0.175|\n",
            "|         0.05|    6| 0.175|\n",
            "|         0.05|    7| 0.175|\n",
            "|         0.05|    8| 0.175|\n",
            "|         0.05|    9| 0.175|\n",
            "|         0.05|   10| 0.175|\n",
            "|         0.05|   11| 0.175|\n",
            "|         0.05|   12| 0.175|\n",
            "|         0.05|   13| 0.175|\n",
            "|         0.05|   14| 0.175|\n",
            "|         0.05|   15| 0.175|\n",
            "|         0.05|   16| 0.175|\n",
            "|         0.05|   17| 0.175|\n",
            "|         0.05|   18| 0.175|\n",
            "|         0.05|   19| 0.175|\n",
            "|         0.05|   20| 0.175|\n",
            "|         0.10|    1| 0.200|\n",
            "|         0.10|    2| 0.175|\n",
            "|         0.10|    3| 0.175|\n",
            "|         0.10|    4| 0.175|\n",
            "|         0.10|    5| 0.175|\n",
            "|         0.10|    6| 0.175|\n",
            "|         0.10|    7| 0.175|\n",
            "|         0.10|    8| 0.175|\n",
            "|         0.10|    9| 0.175|\n",
            "|         0.10|   10| 0.175|\n",
            "|         0.10|   11| 0.175|\n",
            "|         0.10|   12| 0.175|\n",
            "|         0.10|   13| 0.175|\n",
            "|         0.10|   14| 0.175|\n",
            "|         0.10|   15| 0.175|\n",
            "|         0.10|   16| 0.175|\n",
            "|         0.10|   17| 0.175|\n",
            "|         0.10|   18| 0.175|\n",
            "|         0.10|   19| 0.175|\n",
            "|         0.10|   20| 0.175|\n",
            "|         0.30|    1| 0.200|\n",
            "|         0.30|    2| 0.175|\n",
            "|         0.30|    3| 0.175|\n",
            "|         0.30|    4| 0.175|\n",
            "|         0.30|    5| 0.175|\n",
            "|         0.30|    6| 0.175|\n",
            "|         0.30|    7| 0.175|\n",
            "|         0.30|    8| 0.175|\n",
            "|         0.30|    9| 0.175|\n",
            "|         0.30|   10| 0.175|\n",
            "|         0.30|   11| 0.175|\n",
            "|         0.30|   12| 0.175|\n",
            "|         0.30|   13| 0.175|\n",
            "|         0.30|   14| 0.175|\n",
            "|         0.30|   15| 0.175|\n",
            "|         0.30|   16| 0.175|\n",
            "|         0.30|   17| 0.175|\n",
            "|         0.30|   18| 0.175|\n",
            "|         0.30|   19| 0.175|\n",
            "|         0.30|   20| 0.175|\n"
          ]
        }
      ]
    },
    {
      "cell_type": "code",
      "source": [
        "min_error <- min(results$Error)\n",
        "best_results_xgb <- results[results$Error == min_error, ]\n",
        "print(kable(best_results_xgb, format.args = list(scientific = FALSE), align = \"r\"))"
      ],
      "metadata": {
        "colab": {
          "base_uri": "https://localhost:8080/"
        },
        "id": "KNmHa6lVovnj",
        "outputId": "8ab0e28a-21f5-4011-a6b0-5a098ce531b5"
      },
      "execution_count": 229,
      "outputs": [
        {
          "output_type": "stream",
          "name": "stdout",
          "text": [
            "\n",
            "\n",
            "|   | LearningRate| Prof| Error|\n",
            "|:--|------------:|----:|-----:|\n",
            "|2  |         0.01|    2| 0.175|\n",
            "|3  |         0.01|    3| 0.175|\n",
            "|4  |         0.01|    4| 0.175|\n",
            "|5  |         0.01|    5| 0.175|\n",
            "|6  |         0.01|    6| 0.175|\n",
            "|7  |         0.01|    7| 0.175|\n",
            "|8  |         0.01|    8| 0.175|\n",
            "|9  |         0.01|    9| 0.175|\n",
            "|10 |         0.01|   10| 0.175|\n",
            "|11 |         0.01|   11| 0.175|\n",
            "|12 |         0.01|   12| 0.175|\n",
            "|13 |         0.01|   13| 0.175|\n",
            "|14 |         0.01|   14| 0.175|\n",
            "|15 |         0.01|   15| 0.175|\n",
            "|16 |         0.01|   16| 0.175|\n",
            "|17 |         0.01|   17| 0.175|\n",
            "|18 |         0.01|   18| 0.175|\n",
            "|19 |         0.01|   19| 0.175|\n",
            "|20 |         0.01|   20| 0.175|\n",
            "|22 |         0.05|    2| 0.175|\n",
            "|23 |         0.05|    3| 0.175|\n",
            "|24 |         0.05|    4| 0.175|\n",
            "|25 |         0.05|    5| 0.175|\n",
            "|26 |         0.05|    6| 0.175|\n",
            "|27 |         0.05|    7| 0.175|\n",
            "|28 |         0.05|    8| 0.175|\n",
            "|29 |         0.05|    9| 0.175|\n",
            "|30 |         0.05|   10| 0.175|\n",
            "|31 |         0.05|   11| 0.175|\n",
            "|32 |         0.05|   12| 0.175|\n",
            "|33 |         0.05|   13| 0.175|\n",
            "|34 |         0.05|   14| 0.175|\n",
            "|35 |         0.05|   15| 0.175|\n",
            "|36 |         0.05|   16| 0.175|\n",
            "|37 |         0.05|   17| 0.175|\n",
            "|38 |         0.05|   18| 0.175|\n",
            "|39 |         0.05|   19| 0.175|\n",
            "|40 |         0.05|   20| 0.175|\n",
            "|42 |         0.10|    2| 0.175|\n",
            "|43 |         0.10|    3| 0.175|\n",
            "|44 |         0.10|    4| 0.175|\n",
            "|45 |         0.10|    5| 0.175|\n",
            "|46 |         0.10|    6| 0.175|\n",
            "|47 |         0.10|    7| 0.175|\n",
            "|48 |         0.10|    8| 0.175|\n",
            "|49 |         0.10|    9| 0.175|\n",
            "|50 |         0.10|   10| 0.175|\n",
            "|51 |         0.10|   11| 0.175|\n",
            "|52 |         0.10|   12| 0.175|\n",
            "|53 |         0.10|   13| 0.175|\n",
            "|54 |         0.10|   14| 0.175|\n",
            "|55 |         0.10|   15| 0.175|\n",
            "|56 |         0.10|   16| 0.175|\n",
            "|57 |         0.10|   17| 0.175|\n",
            "|58 |         0.10|   18| 0.175|\n",
            "|59 |         0.10|   19| 0.175|\n",
            "|60 |         0.10|   20| 0.175|\n",
            "|62 |         0.30|    2| 0.175|\n",
            "|63 |         0.30|    3| 0.175|\n",
            "|64 |         0.30|    4| 0.175|\n",
            "|65 |         0.30|    5| 0.175|\n",
            "|66 |         0.30|    6| 0.175|\n",
            "|67 |         0.30|    7| 0.175|\n",
            "|68 |         0.30|    8| 0.175|\n",
            "|69 |         0.30|    9| 0.175|\n",
            "|70 |         0.30|   10| 0.175|\n",
            "|71 |         0.30|   11| 0.175|\n",
            "|72 |         0.30|   12| 0.175|\n",
            "|73 |         0.30|   13| 0.175|\n",
            "|74 |         0.30|   14| 0.175|\n",
            "|75 |         0.30|   15| 0.175|\n",
            "|76 |         0.30|   16| 0.175|\n",
            "|77 |         0.30|   17| 0.175|\n",
            "|78 |         0.30|   18| 0.175|\n",
            "|79 |         0.30|   19| 0.175|\n",
            "|80 |         0.30|   20| 0.175|\n"
          ]
        }
      ]
    },
    {
      "cell_type": "markdown",
      "source": [
        "Con boosting fue muy frecuente que muchas combinaciones de parametros a optimizar (learning rate y profundidad) dieran como optimas ya que casi todas lograban el mismo error, estimo que esto sucede porque el dataset de por si es pequeño y al sacar 20% de los puntos para la comparacion final y luego al momento de optimizar entrenar con solo 80% de los puntos otra vez (a pesar de estar usando k-fold para calcular el promedio) esta haciendo que los modelos tengan pocos puntos para entrenar, donde cada árbol particular usado por boosting esta sobreajustando, haciendo que el modelo no pueda seguir mejorando luego de cierta cantidad de iteraciones."
      ],
      "metadata": {
        "id": "7jm82F55Gtl_"
      }
    },
    {
      "cell_type": "markdown",
      "metadata": {
        "id": "FGRhVaeMj7OK"
      },
      "source": [
        "### SVM - RBF"
      ]
    },
    {
      "cell_type": "code",
      "execution_count": 230,
      "metadata": {
        "id": "aBFrgyHn7E_r"
      },
      "outputs": [],
      "source": [
        "results <- data.frame(Cost = numeric(),\n",
        "                      Gamma = numeric(),\n",
        "                      Error = numeric(),\n",
        "                      stringsAsFactors = FALSE)\n",
        "\n",
        "costs <- c(0.00001, 0.0001, 0.001, 0.01, 0.1, 1, 10, 100, 1000, 10000, 100000)\n",
        "gammas <- c(0.000001, 0.00001, 0.0001, 0.001, 0.01, 0.1, 1, 10)\n",
        "num_folds <- 5\n",
        "folds <- cut(seq(1, nrow(train)), breaks = num_folds, labels = FALSE)\n",
        "\n",
        "for(i in 1:length(costs)) {\n",
        "  for(j in 1:length(gammas)) {\n",
        "    suppressWarnings(error_kfold <- k_fold_cv_svm_RBF(train, \"N_tipo\", folds, costs[i], gammas[j], num_folds))\n",
        "    results <- rbind(results, data.frame(Cost = costs[i], Gamma = gammas[j], Error = error_kfold))\n",
        "  }\n",
        "}"
      ]
    },
    {
      "cell_type": "code",
      "source": [
        "print(kable(results, format.args = list(scientific = FALSE), align = \"r\"))"
      ],
      "metadata": {
        "colab": {
          "base_uri": "https://localhost:8080/"
        },
        "id": "zcwSPUe7nFcS",
        "outputId": "2110593f-3786-48b1-ae51-01e4f6917712"
      },
      "execution_count": 231,
      "outputs": [
        {
          "output_type": "stream",
          "name": "stdout",
          "text": [
            "\n",
            "\n",
            "|         Cost|     Gamma| Error|\n",
            "|------------:|---------:|-----:|\n",
            "|      0.00001|  0.000001| 0.600|\n",
            "|      0.00001|  0.000010| 0.575|\n",
            "|      0.00001|  0.000100| 0.575|\n",
            "|      0.00001|  0.001000| 0.550|\n",
            "|      0.00001|  0.010000| 0.600|\n",
            "|      0.00001|  0.100000| 0.625|\n",
            "|      0.00001|  1.000000| 0.600|\n",
            "|      0.00001| 10.000000| 0.575|\n",
            "|      0.00010|  0.000001| 0.600|\n",
            "|      0.00010|  0.000010| 0.575|\n",
            "|      0.00010|  0.000100| 0.575|\n",
            "|      0.00010|  0.001000| 0.550|\n",
            "|      0.00010|  0.010000| 0.600|\n",
            "|      0.00010|  0.100000| 0.625|\n",
            "|      0.00010|  1.000000| 0.600|\n",
            "|      0.00010| 10.000000| 0.575|\n",
            "|      0.00100|  0.000001| 0.600|\n",
            "|      0.00100|  0.000010| 0.575|\n",
            "|      0.00100|  0.000100| 0.575|\n",
            "|      0.00100|  0.001000| 0.550|\n",
            "|      0.00100|  0.010000| 0.600|\n",
            "|      0.00100|  0.100000| 0.625|\n",
            "|      0.00100|  1.000000| 0.600|\n",
            "|      0.00100| 10.000000| 0.575|\n",
            "|      0.01000|  0.000001| 0.600|\n",
            "|      0.01000|  0.000010| 0.575|\n",
            "|      0.01000|  0.000100| 0.575|\n",
            "|      0.01000|  0.001000| 0.550|\n",
            "|      0.01000|  0.010000| 0.600|\n",
            "|      0.01000|  0.100000| 0.625|\n",
            "|      0.01000|  1.000000| 0.600|\n",
            "|      0.01000| 10.000000| 0.575|\n",
            "|      0.10000|  0.000001| 0.600|\n",
            "|      0.10000|  0.000010| 0.575|\n",
            "|      0.10000|  0.000100| 0.575|\n",
            "|      0.10000|  0.001000| 0.550|\n",
            "|      0.10000|  0.010000| 0.600|\n",
            "|      0.10000|  0.100000| 0.625|\n",
            "|      0.10000|  1.000000| 0.600|\n",
            "|      0.10000| 10.000000| 0.575|\n",
            "|      1.00000|  0.000001| 0.600|\n",
            "|      1.00000|  0.000010| 0.575|\n",
            "|      1.00000|  0.000100| 0.275|\n",
            "|      1.00000|  0.001000| 0.250|\n",
            "|      1.00000|  0.010000| 0.575|\n",
            "|      1.00000|  0.100000| 0.600|\n",
            "|      1.00000|  1.000000| 0.625|\n",
            "|      1.00000| 10.000000| 0.575|\n",
            "|     10.00000|  0.000001| 0.575|\n",
            "|     10.00000|  0.000010| 0.275|\n",
            "|     10.00000|  0.000100| 0.275|\n",
            "|     10.00000|  0.001000| 0.250|\n",
            "|     10.00000|  0.010000| 0.550|\n",
            "|     10.00000|  0.100000| 0.600|\n",
            "|     10.00000|  1.000000| 0.625|\n",
            "|     10.00000| 10.000000| 0.575|\n",
            "|    100.00000|  0.000001| 0.300|\n",
            "|    100.00000|  0.000010| 0.225|\n",
            "|    100.00000|  0.000100| 0.225|\n",
            "|    100.00000|  0.001000| 0.250|\n",
            "|    100.00000|  0.010000| 0.550|\n",
            "|    100.00000|  0.100000| 0.600|\n",
            "|    100.00000|  1.000000| 0.625|\n",
            "|    100.00000| 10.000000| 0.575|\n",
            "|   1000.00000|  0.000001| 0.225|\n",
            "|   1000.00000|  0.000010| 0.250|\n",
            "|   1000.00000|  0.000100| 0.250|\n",
            "|   1000.00000|  0.001000| 0.250|\n",
            "|   1000.00000|  0.010000| 0.550|\n",
            "|   1000.00000|  0.100000| 0.600|\n",
            "|   1000.00000|  1.000000| 0.625|\n",
            "|   1000.00000| 10.000000| 0.575|\n",
            "|  10000.00000|  0.000001| 0.250|\n",
            "|  10000.00000|  0.000010| 0.250|\n",
            "|  10000.00000|  0.000100| 0.250|\n",
            "|  10000.00000|  0.001000| 0.250|\n",
            "|  10000.00000|  0.010000| 0.550|\n",
            "|  10000.00000|  0.100000| 0.600|\n",
            "|  10000.00000|  1.000000| 0.625|\n",
            "|  10000.00000| 10.000000| 0.575|\n",
            "| 100000.00000|  0.000001| 0.300|\n",
            "| 100000.00000|  0.000010| 0.250|\n",
            "| 100000.00000|  0.000100| 0.250|\n",
            "| 100000.00000|  0.001000| 0.250|\n",
            "| 100000.00000|  0.010000| 0.550|\n",
            "| 100000.00000|  0.100000| 0.600|\n",
            "| 100000.00000|  1.000000| 0.625|\n",
            "| 100000.00000| 10.000000| 0.575|\n"
          ]
        }
      ]
    },
    {
      "cell_type": "code",
      "source": [
        "min_error <- min(results$Error)\n",
        "best_results_svmrbf <- results[results$Error == min_error, ]\n",
        "print(kable(best_results_svmrbf, format.args = list(scientific = FALSE), align = \"r\"))"
      ],
      "metadata": {
        "colab": {
          "base_uri": "https://localhost:8080/"
        },
        "id": "fj6R1JhPozso",
        "outputId": "a5bccdf9-3899-4201-c572-f3de979c7b35"
      },
      "execution_count": 232,
      "outputs": [
        {
          "output_type": "stream",
          "name": "stdout",
          "text": [
            "\n",
            "\n",
            "|   | Cost|    Gamma| Error|\n",
            "|:--|----:|--------:|-----:|\n",
            "|58 |  100| 0.000010| 0.225|\n",
            "|59 |  100| 0.000100| 0.225|\n",
            "|65 | 1000| 0.000001| 0.225|\n"
          ]
        }
      ]
    },
    {
      "cell_type": "markdown",
      "source": [
        "Los mejores resultados para SVM RBF los obtuve con costos relativamente altos y gammas muy pequeños, pero en general luego de correr todo muchas veces, este método suele ser el peor para este problema."
      ],
      "metadata": {
        "id": "xU5lfw3HVe4C"
      }
    },
    {
      "cell_type": "markdown",
      "metadata": {
        "id": "dEuavM2wj_La"
      },
      "source": [
        "### SVM - Polinomial"
      ]
    },
    {
      "cell_type": "code",
      "execution_count": 233,
      "metadata": {
        "id": "G6WAQpQ4tcee"
      },
      "outputs": [],
      "source": [
        "results <- data.frame(Cost = numeric(), Gamma = numeric(), Degree = integer(), Error = numeric(), stringsAsFactors = FALSE)\n",
        "\n",
        "costs <- c(0.00001, 0.0001, 0.001, 0.01, 0.1, 1, 10, 100, 1000, 10000, 100000)\n",
        "gammas <- c(0.000001, 0.00001, 0.0001, 0.001, 0.01, 0.1, 1, 10)\n",
        "degrees <- 1:5\n",
        "num_folds <- 5\n",
        "folds <- cut(seq(1, nrow(train)), breaks = num_folds, labels = FALSE)\n",
        "\n",
        "for(i in 1:length(costs)) {\n",
        "  for(j in 1:length(gammas)) {\n",
        "    for(k in 1:length(degrees)) {\n",
        "      suppressWarnings(error_kfold <- k_fold_cv_svm_polinomial(train, \"N_tipo\", folds, costs[i], gammas[j], degrees[k], num_folds))\n",
        "      results <- rbind(results, data.frame(Cost = costs[i], Gamma = gammas[j], Degree = degrees[k], Error = error_kfold))\n",
        "    }\n",
        "  }\n",
        "}"
      ]
    },
    {
      "cell_type": "code",
      "source": [
        "print(kable(results, format.args = list(scientific = FALSE), align = \"r\"))"
      ],
      "metadata": {
        "colab": {
          "base_uri": "https://localhost:8080/"
        },
        "id": "ToN8KayLoCBN",
        "outputId": "03bb72fd-8885-437e-c478-09fb09d18b2b"
      },
      "execution_count": 234,
      "outputs": [
        {
          "output_type": "stream",
          "name": "stdout",
          "text": [
            "\n",
            "\n",
            "|         Cost|     Gamma| Degree| Error|\n",
            "|------------:|---------:|------:|-----:|\n",
            "|      0.00001|  0.000001|      1| 0.600|\n",
            "|      0.00001|  0.000001|      2| 0.575|\n",
            "|      0.00001|  0.000001|      3| 0.575|\n",
            "|      0.00001|  0.000001|      4| 0.625|\n",
            "|      0.00001|  0.000001|      5| 0.625|\n",
            "|      0.00001|  0.000010|      1| 0.600|\n",
            "|      0.00001|  0.000010|      2| 0.575|\n",
            "|      0.00001|  0.000010|      3| 0.575|\n",
            "|      0.00001|  0.000010|      4| 0.625|\n",
            "|      0.00001|  0.000010|      5| 0.625|\n",
            "|      0.00001|  0.000100|      1| 0.600|\n",
            "|      0.00001|  0.000100|      2| 0.575|\n",
            "|      0.00001|  0.000100|      3| 0.575|\n",
            "|      0.00001|  0.000100|      4| 0.275|\n",
            "|      0.00001|  0.000100|      5| 0.225|\n",
            "|      0.00001|  0.001000|      1| 0.600|\n",
            "|      0.00001|  0.001000|      2| 0.600|\n",
            "|      0.00001|  0.001000|      3| 0.250|\n",
            "|      0.00001|  0.001000|      4| 0.250|\n",
            "|      0.00001|  0.001000|      5| 0.225|\n",
            "|      0.00001|  0.010000|      1| 0.600|\n",
            "|      0.00001|  0.010000|      2| 0.250|\n",
            "|      0.00001|  0.010000|      3| 0.225|\n",
            "|      0.00001|  0.010000|      4| 0.250|\n",
            "|      0.00001|  0.010000|      5| 0.225|\n",
            "|      0.00001|  0.100000|      1| 0.600|\n",
            "|      0.00001|  0.100000|      2| 0.175|\n",
            "|      0.00001|  0.100000|      3| 0.225|\n",
            "|      0.00001|  0.100000|      4| 0.250|\n",
            "|      0.00001|  0.100000|      5| 0.225|\n",
            "|      0.00001|  1.000000|      1| 0.600|\n",
            "|      0.00001|  1.000000|      2| 0.200|\n",
            "|      0.00001|  1.000000|      3| 0.225|\n",
            "|      0.00001|  1.000000|      4| 0.250|\n",
            "|      0.00001|  1.000000|      5| 0.225|\n",
            "|      0.00001| 10.000000|      1| 0.325|\n",
            "|      0.00001| 10.000000|      2| 0.200|\n",
            "|      0.00001| 10.000000|      3| 0.225|\n",
            "|      0.00001| 10.000000|      4| 0.250|\n",
            "|      0.00001| 10.000000|      5| 0.225|\n",
            "|      0.00010|  0.000001|      1| 0.600|\n",
            "|      0.00010|  0.000001|      2| 0.575|\n",
            "|      0.00010|  0.000001|      3| 0.575|\n",
            "|      0.00010|  0.000001|      4| 0.625|\n",
            "|      0.00010|  0.000001|      5| 0.625|\n",
            "|      0.00010|  0.000010|      1| 0.600|\n",
            "|      0.00010|  0.000010|      2| 0.575|\n",
            "|      0.00010|  0.000010|      3| 0.575|\n",
            "|      0.00010|  0.000010|      4| 0.625|\n",
            "|      0.00010|  0.000010|      5| 0.600|\n",
            "|      0.00010|  0.000100|      1| 0.600|\n",
            "|      0.00010|  0.000100|      2| 0.575|\n",
            "|      0.00010|  0.000100|      3| 0.325|\n",
            "|      0.00010|  0.000100|      4| 0.250|\n",
            "|      0.00010|  0.000100|      5| 0.225|\n",
            "|      0.00010|  0.001000|      1| 0.600|\n",
            "|      0.00010|  0.001000|      2| 0.350|\n",
            "|      0.00010|  0.001000|      3| 0.175|\n",
            "|      0.00010|  0.001000|      4| 0.250|\n",
            "|      0.00010|  0.001000|      5| 0.225|\n",
            "|      0.00010|  0.010000|      1| 0.600|\n",
            "|      0.00010|  0.010000|      2| 0.250|\n",
            "|      0.00010|  0.010000|      3| 0.225|\n",
            "|      0.00010|  0.010000|      4| 0.250|\n",
            "|      0.00010|  0.010000|      5| 0.225|\n",
            "|      0.00010|  0.100000|      1| 0.600|\n",
            "|      0.00010|  0.100000|      2| 0.200|\n",
            "|      0.00010|  0.100000|      3| 0.225|\n",
            "|      0.00010|  0.100000|      4| 0.250|\n",
            "|      0.00010|  0.100000|      5| 0.225|\n",
            "|      0.00010|  1.000000|      1| 0.325|\n",
            "|      0.00010|  1.000000|      2| 0.200|\n",
            "|      0.00010|  1.000000|      3| 0.225|\n",
            "|      0.00010|  1.000000|      4| 0.250|\n",
            "|      0.00010|  1.000000|      5| 0.225|\n",
            "|      0.00010| 10.000000|      1| 0.275|\n",
            "|      0.00010| 10.000000|      2| 0.200|\n",
            "|      0.00010| 10.000000|      3| 0.225|\n",
            "|      0.00010| 10.000000|      4| 0.250|\n",
            "|      0.00010| 10.000000|      5| 0.225|\n",
            "|      0.00100|  0.000001|      1| 0.600|\n",
            "|      0.00100|  0.000001|      2| 0.575|\n",
            "|      0.00100|  0.000001|      3| 0.575|\n",
            "|      0.00100|  0.000001|      4| 0.625|\n",
            "|      0.00100|  0.000001|      5| 0.625|\n",
            "|      0.00100|  0.000010|      1| 0.600|\n",
            "|      0.00100|  0.000010|      2| 0.575|\n",
            "|      0.00100|  0.000010|      3| 0.575|\n",
            "|      0.00100|  0.000010|      4| 0.600|\n",
            "|      0.00100|  0.000010|      5| 0.375|\n",
            "|      0.00100|  0.000100|      1| 0.600|\n",
            "|      0.00100|  0.000100|      2| 0.600|\n",
            "|      0.00100|  0.000100|      3| 0.325|\n",
            "|      0.00100|  0.000100|      4| 0.225|\n",
            "|      0.00100|  0.000100|      5| 0.225|\n",
            "|      0.00100|  0.001000|      1| 0.600|\n",
            "|      0.00100|  0.001000|      2| 0.250|\n",
            "|      0.00100|  0.001000|      3| 0.225|\n",
            "|      0.00100|  0.001000|      4| 0.250|\n",
            "|      0.00100|  0.001000|      5| 0.225|\n",
            "|      0.00100|  0.010000|      1| 0.600|\n",
            "|      0.00100|  0.010000|      2| 0.175|\n",
            "|      0.00100|  0.010000|      3| 0.225|\n",
            "|      0.00100|  0.010000|      4| 0.250|\n",
            "|      0.00100|  0.010000|      5| 0.225|\n",
            "|      0.00100|  0.100000|      1| 0.325|\n",
            "|      0.00100|  0.100000|      2| 0.200|\n",
            "|      0.00100|  0.100000|      3| 0.225|\n",
            "|      0.00100|  0.100000|      4| 0.250|\n",
            "|      0.00100|  0.100000|      5| 0.225|\n",
            "|      0.00100|  1.000000|      1| 0.275|\n",
            "|      0.00100|  1.000000|      2| 0.200|\n",
            "|      0.00100|  1.000000|      3| 0.225|\n",
            "|      0.00100|  1.000000|      4| 0.250|\n",
            "|      0.00100|  1.000000|      5| 0.225|\n",
            "|      0.00100| 10.000000|      1| 0.225|\n",
            "|      0.00100| 10.000000|      2| 0.200|\n",
            "|      0.00100| 10.000000|      3| 0.225|\n",
            "|      0.00100| 10.000000|      4| 0.250|\n",
            "|      0.00100| 10.000000|      5| 0.225|\n",
            "|      0.01000|  0.000001|      1| 0.600|\n",
            "|      0.01000|  0.000001|      2| 0.575|\n",
            "|      0.01000|  0.000001|      3| 0.575|\n",
            "|      0.01000|  0.000001|      4| 0.625|\n",
            "|      0.01000|  0.000001|      5| 0.625|\n",
            "|      0.01000|  0.000010|      1| 0.600|\n",
            "|      0.01000|  0.000010|      2| 0.575|\n",
            "|      0.01000|  0.000010|      3| 0.575|\n",
            "|      0.01000|  0.000010|      4| 0.300|\n",
            "|      0.01000|  0.000010|      5| 0.275|\n",
            "|      0.01000|  0.000100|      1| 0.600|\n",
            "|      0.01000|  0.000100|      2| 0.350|\n",
            "|      0.01000|  0.000100|      3| 0.250|\n",
            "|      0.01000|  0.000100|      4| 0.250|\n",
            "|      0.01000|  0.000100|      5| 0.225|\n",
            "|      0.01000|  0.001000|      1| 0.600|\n",
            "|      0.01000|  0.001000|      2| 0.250|\n",
            "|      0.01000|  0.001000|      3| 0.225|\n",
            "|      0.01000|  0.001000|      4| 0.250|\n",
            "|      0.01000|  0.001000|      5| 0.225|\n",
            "|      0.01000|  0.010000|      1| 0.325|\n",
            "|      0.01000|  0.010000|      2| 0.200|\n",
            "|      0.01000|  0.010000|      3| 0.225|\n",
            "|      0.01000|  0.010000|      4| 0.250|\n",
            "|      0.01000|  0.010000|      5| 0.225|\n",
            "|      0.01000|  0.100000|      1| 0.275|\n",
            "|      0.01000|  0.100000|      2| 0.200|\n",
            "|      0.01000|  0.100000|      3| 0.225|\n",
            "|      0.01000|  0.100000|      4| 0.250|\n",
            "|      0.01000|  0.100000|      5| 0.225|\n",
            "|      0.01000|  1.000000|      1| 0.225|\n",
            "|      0.01000|  1.000000|      2| 0.200|\n",
            "|      0.01000|  1.000000|      3| 0.225|\n",
            "|      0.01000|  1.000000|      4| 0.250|\n",
            "|      0.01000|  1.000000|      5| 0.225|\n",
            "|      0.01000| 10.000000|      1| 0.175|\n",
            "|      0.01000| 10.000000|      2| 0.200|\n",
            "|      0.01000| 10.000000|      3| 0.225|\n",
            "|      0.01000| 10.000000|      4| 0.250|\n",
            "|      0.01000| 10.000000|      5| 0.225|\n",
            "|      0.10000|  0.000001|      1| 0.600|\n",
            "|      0.10000|  0.000001|      2| 0.575|\n",
            "|      0.10000|  0.000001|      3| 0.575|\n",
            "|      0.10000|  0.000001|      4| 0.625|\n",
            "|      0.10000|  0.000001|      5| 0.625|\n",
            "|      0.10000|  0.000010|      1| 0.600|\n",
            "|      0.10000|  0.000010|      2| 0.600|\n",
            "|      0.10000|  0.000010|      3| 0.325|\n",
            "|      0.10000|  0.000010|      4| 0.275|\n",
            "|      0.10000|  0.000010|      5| 0.225|\n",
            "|      0.10000|  0.000100|      1| 0.600|\n",
            "|      0.10000|  0.000100|      2| 0.250|\n",
            "|      0.10000|  0.000100|      3| 0.175|\n",
            "|      0.10000|  0.000100|      4| 0.250|\n",
            "|      0.10000|  0.000100|      5| 0.225|\n",
            "|      0.10000|  0.001000|      1| 0.325|\n",
            "|      0.10000|  0.001000|      2| 0.175|\n",
            "|      0.10000|  0.001000|      3| 0.225|\n",
            "|      0.10000|  0.001000|      4| 0.250|\n",
            "|      0.10000|  0.001000|      5| 0.225|\n",
            "|      0.10000|  0.010000|      1| 0.275|\n",
            "|      0.10000|  0.010000|      2| 0.200|\n",
            "|      0.10000|  0.010000|      3| 0.225|\n",
            "|      0.10000|  0.010000|      4| 0.250|\n",
            "|      0.10000|  0.010000|      5| 0.225|\n",
            "|      0.10000|  0.100000|      1| 0.225|\n",
            "|      0.10000|  0.100000|      2| 0.200|\n",
            "|      0.10000|  0.100000|      3| 0.225|\n",
            "|      0.10000|  0.100000|      4| 0.250|\n",
            "|      0.10000|  0.100000|      5| 0.225|\n",
            "|      0.10000|  1.000000|      1| 0.175|\n",
            "|      0.10000|  1.000000|      2| 0.200|\n",
            "|      0.10000|  1.000000|      3| 0.225|\n",
            "|      0.10000|  1.000000|      4| 0.250|\n",
            "|      0.10000|  1.000000|      5| 0.225|\n",
            "|      0.10000| 10.000000|      1| 0.100|\n",
            "|      0.10000| 10.000000|      2| 0.200|\n",
            "|      0.10000| 10.000000|      3| 0.225|\n",
            "|      0.10000| 10.000000|      4| 0.250|\n",
            "|      0.10000| 10.000000|      5| 0.225|\n",
            "|      1.00000|  0.000001|      1| 0.600|\n",
            "|      1.00000|  0.000001|      2| 0.575|\n",
            "|      1.00000|  0.000001|      3| 0.575|\n",
            "|      1.00000|  0.000001|      4| 0.625|\n",
            "|      1.00000|  0.000001|      5| 0.625|\n",
            "|      1.00000|  0.000010|      1| 0.600|\n",
            "|      1.00000|  0.000010|      2| 0.350|\n",
            "|      1.00000|  0.000010|      3| 0.325|\n",
            "|      1.00000|  0.000010|      4| 0.250|\n",
            "|      1.00000|  0.000010|      5| 0.225|\n",
            "|      1.00000|  0.000100|      1| 0.325|\n",
            "|      1.00000|  0.000100|      2| 0.250|\n",
            "|      1.00000|  0.000100|      3| 0.225|\n",
            "|      1.00000|  0.000100|      4| 0.250|\n",
            "|      1.00000|  0.000100|      5| 0.225|\n",
            "|      1.00000|  0.001000|      1| 0.275|\n",
            "|      1.00000|  0.001000|      2| 0.200|\n",
            "|      1.00000|  0.001000|      3| 0.225|\n",
            "|      1.00000|  0.001000|      4| 0.250|\n",
            "|      1.00000|  0.001000|      5| 0.225|\n",
            "|      1.00000|  0.010000|      1| 0.225|\n",
            "|      1.00000|  0.010000|      2| 0.200|\n",
            "|      1.00000|  0.010000|      3| 0.225|\n",
            "|      1.00000|  0.010000|      4| 0.250|\n",
            "|      1.00000|  0.010000|      5| 0.225|\n",
            "|      1.00000|  0.100000|      1| 0.175|\n",
            "|      1.00000|  0.100000|      2| 0.200|\n",
            "|      1.00000|  0.100000|      3| 0.225|\n",
            "|      1.00000|  0.100000|      4| 0.250|\n",
            "|      1.00000|  0.100000|      5| 0.225|\n",
            "|      1.00000|  1.000000|      1| 0.100|\n",
            "|      1.00000|  1.000000|      2| 0.200|\n",
            "|      1.00000|  1.000000|      3| 0.225|\n",
            "|      1.00000|  1.000000|      4| 0.250|\n",
            "|      1.00000|  1.000000|      5| 0.225|\n",
            "|      1.00000| 10.000000|      1| 0.100|\n",
            "|      1.00000| 10.000000|      2| 0.200|\n",
            "|      1.00000| 10.000000|      3| 0.225|\n",
            "|      1.00000| 10.000000|      4| 0.250|\n",
            "|      1.00000| 10.000000|      5| 0.225|\n",
            "|     10.00000|  0.000001|      1| 0.600|\n",
            "|     10.00000|  0.000001|      2| 0.600|\n",
            "|     10.00000|  0.000001|      3| 0.575|\n",
            "|     10.00000|  0.000001|      4| 0.600|\n",
            "|     10.00000|  0.000001|      5| 0.600|\n",
            "|     10.00000|  0.000010|      1| 0.325|\n",
            "|     10.00000|  0.000010|      2| 0.250|\n",
            "|     10.00000|  0.000010|      3| 0.250|\n",
            "|     10.00000|  0.000010|      4| 0.225|\n",
            "|     10.00000|  0.000010|      5| 0.225|\n",
            "|     10.00000|  0.000100|      1| 0.275|\n",
            "|     10.00000|  0.000100|      2| 0.175|\n",
            "|     10.00000|  0.000100|      3| 0.225|\n",
            "|     10.00000|  0.000100|      4| 0.250|\n",
            "|     10.00000|  0.000100|      5| 0.225|\n",
            "|     10.00000|  0.001000|      1| 0.225|\n",
            "|     10.00000|  0.001000|      2| 0.200|\n",
            "|     10.00000|  0.001000|      3| 0.225|\n",
            "|     10.00000|  0.001000|      4| 0.250|\n",
            "|     10.00000|  0.001000|      5| 0.225|\n",
            "|     10.00000|  0.010000|      1| 0.175|\n",
            "|     10.00000|  0.010000|      2| 0.200|\n",
            "|     10.00000|  0.010000|      3| 0.225|\n",
            "|     10.00000|  0.010000|      4| 0.250|\n",
            "|     10.00000|  0.010000|      5| 0.225|\n",
            "|     10.00000|  0.100000|      1| 0.100|\n",
            "|     10.00000|  0.100000|      2| 0.200|\n",
            "|     10.00000|  0.100000|      3| 0.225|\n",
            "|     10.00000|  0.100000|      4| 0.250|\n",
            "|     10.00000|  0.100000|      5| 0.225|\n",
            "|     10.00000|  1.000000|      1| 0.100|\n",
            "|     10.00000|  1.000000|      2| 0.200|\n",
            "|     10.00000|  1.000000|      3| 0.225|\n",
            "|     10.00000|  1.000000|      4| 0.250|\n",
            "|     10.00000|  1.000000|      5| 0.225|\n",
            "|     10.00000| 10.000000|      1| 0.100|\n",
            "|     10.00000| 10.000000|      2| 0.200|\n",
            "|     10.00000| 10.000000|      3| 0.225|\n",
            "|     10.00000| 10.000000|      4| 0.250|\n",
            "|     10.00000| 10.000000|      5| 0.225|\n",
            "|    100.00000|  0.000001|      1| 0.325|\n",
            "|    100.00000|  0.000001|      2| 0.350|\n",
            "|    100.00000|  0.000001|      3| 0.325|\n",
            "|    100.00000|  0.000001|      4| 0.300|\n",
            "|    100.00000|  0.000001|      5| 0.375|\n",
            "|    100.00000|  0.000010|      1| 0.275|\n",
            "|    100.00000|  0.000010|      2| 0.250|\n",
            "|    100.00000|  0.000010|      3| 0.175|\n",
            "|    100.00000|  0.000010|      4| 0.250|\n",
            "|    100.00000|  0.000010|      5| 0.225|\n",
            "|    100.00000|  0.000100|      1| 0.225|\n",
            "|    100.00000|  0.000100|      2| 0.200|\n",
            "|    100.00000|  0.000100|      3| 0.225|\n",
            "|    100.00000|  0.000100|      4| 0.250|\n",
            "|    100.00000|  0.000100|      5| 0.225|\n",
            "|    100.00000|  0.001000|      1| 0.175|\n",
            "|    100.00000|  0.001000|      2| 0.200|\n",
            "|    100.00000|  0.001000|      3| 0.225|\n",
            "|    100.00000|  0.001000|      4| 0.250|\n",
            "|    100.00000|  0.001000|      5| 0.225|\n",
            "|    100.00000|  0.010000|      1| 0.100|\n",
            "|    100.00000|  0.010000|      2| 0.200|\n",
            "|    100.00000|  0.010000|      3| 0.225|\n",
            "|    100.00000|  0.010000|      4| 0.250|\n",
            "|    100.00000|  0.010000|      5| 0.225|\n",
            "|    100.00000|  0.100000|      1| 0.100|\n",
            "|    100.00000|  0.100000|      2| 0.200|\n",
            "|    100.00000|  0.100000|      3| 0.225|\n",
            "|    100.00000|  0.100000|      4| 0.250|\n",
            "|    100.00000|  0.100000|      5| 0.225|\n",
            "|    100.00000|  1.000000|      1| 0.100|\n",
            "|    100.00000|  1.000000|      2| 0.200|\n",
            "|    100.00000|  1.000000|      3| 0.225|\n",
            "|    100.00000|  1.000000|      4| 0.250|\n",
            "|    100.00000|  1.000000|      5| 0.225|\n",
            "|    100.00000| 10.000000|      1| 0.100|\n",
            "|    100.00000| 10.000000|      2| 0.200|\n",
            "|    100.00000| 10.000000|      3| 0.225|\n",
            "|    100.00000| 10.000000|      4| 0.250|\n",
            "|    100.00000| 10.000000|      5| 0.225|\n",
            "|   1000.00000|  0.000001|      1| 0.275|\n",
            "|   1000.00000|  0.000001|      2| 0.250|\n",
            "|   1000.00000|  0.000001|      3| 0.325|\n",
            "|   1000.00000|  0.000001|      4| 0.275|\n",
            "|   1000.00000|  0.000001|      5| 0.275|\n",
            "|   1000.00000|  0.000010|      1| 0.225|\n",
            "|   1000.00000|  0.000010|      2| 0.175|\n",
            "|   1000.00000|  0.000010|      3| 0.225|\n",
            "|   1000.00000|  0.000010|      4| 0.250|\n",
            "|   1000.00000|  0.000010|      5| 0.225|\n",
            "|   1000.00000|  0.000100|      1| 0.175|\n",
            "|   1000.00000|  0.000100|      2| 0.200|\n",
            "|   1000.00000|  0.000100|      3| 0.225|\n",
            "|   1000.00000|  0.000100|      4| 0.250|\n",
            "|   1000.00000|  0.000100|      5| 0.225|\n",
            "|   1000.00000|  0.001000|      1| 0.100|\n",
            "|   1000.00000|  0.001000|      2| 0.200|\n",
            "|   1000.00000|  0.001000|      3| 0.225|\n",
            "|   1000.00000|  0.001000|      4| 0.250|\n",
            "|   1000.00000|  0.001000|      5| 0.225|\n",
            "|   1000.00000|  0.010000|      1| 0.100|\n",
            "|   1000.00000|  0.010000|      2| 0.200|\n",
            "|   1000.00000|  0.010000|      3| 0.225|\n",
            "|   1000.00000|  0.010000|      4| 0.250|\n",
            "|   1000.00000|  0.010000|      5| 0.225|\n",
            "|   1000.00000|  0.100000|      1| 0.100|\n",
            "|   1000.00000|  0.100000|      2| 0.200|\n",
            "|   1000.00000|  0.100000|      3| 0.225|\n",
            "|   1000.00000|  0.100000|      4| 0.250|\n",
            "|   1000.00000|  0.100000|      5| 0.225|\n",
            "|   1000.00000|  1.000000|      1| 0.100|\n",
            "|   1000.00000|  1.000000|      2| 0.200|\n",
            "|   1000.00000|  1.000000|      3| 0.225|\n",
            "|   1000.00000|  1.000000|      4| 0.250|\n",
            "|   1000.00000|  1.000000|      5| 0.225|\n",
            "|   1000.00000| 10.000000|      1| 0.100|\n",
            "|   1000.00000| 10.000000|      2| 0.200|\n",
            "|   1000.00000| 10.000000|      3| 0.225|\n",
            "|   1000.00000| 10.000000|      4| 0.250|\n",
            "|   1000.00000| 10.000000|      5| 0.225|\n",
            "|  10000.00000|  0.000001|      1| 0.225|\n",
            "|  10000.00000|  0.000001|      2| 0.250|\n",
            "|  10000.00000|  0.000001|      3| 0.250|\n",
            "|  10000.00000|  0.000001|      4| 0.250|\n",
            "|  10000.00000|  0.000001|      5| 0.225|\n",
            "|  10000.00000|  0.000010|      1| 0.175|\n",
            "|  10000.00000|  0.000010|      2| 0.200|\n",
            "|  10000.00000|  0.000010|      3| 0.225|\n",
            "|  10000.00000|  0.000010|      4| 0.250|\n",
            "|  10000.00000|  0.000010|      5| 0.225|\n",
            "|  10000.00000|  0.000100|      1| 0.100|\n",
            "|  10000.00000|  0.000100|      2| 0.200|\n",
            "|  10000.00000|  0.000100|      3| 0.225|\n",
            "|  10000.00000|  0.000100|      4| 0.250|\n",
            "|  10000.00000|  0.000100|      5| 0.225|\n",
            "|  10000.00000|  0.001000|      1| 0.100|\n",
            "|  10000.00000|  0.001000|      2| 0.200|\n",
            "|  10000.00000|  0.001000|      3| 0.225|\n",
            "|  10000.00000|  0.001000|      4| 0.250|\n",
            "|  10000.00000|  0.001000|      5| 0.225|\n",
            "|  10000.00000|  0.010000|      1| 0.100|\n",
            "|  10000.00000|  0.010000|      2| 0.200|\n",
            "|  10000.00000|  0.010000|      3| 0.225|\n",
            "|  10000.00000|  0.010000|      4| 0.250|\n",
            "|  10000.00000|  0.010000|      5| 0.225|\n",
            "|  10000.00000|  0.100000|      1| 0.100|\n",
            "|  10000.00000|  0.100000|      2| 0.200|\n",
            "|  10000.00000|  0.100000|      3| 0.225|\n",
            "|  10000.00000|  0.100000|      4| 0.250|\n",
            "|  10000.00000|  0.100000|      5| 0.225|\n",
            "|  10000.00000|  1.000000|      1| 0.100|\n",
            "|  10000.00000|  1.000000|      2| 0.200|\n",
            "|  10000.00000|  1.000000|      3| 0.225|\n",
            "|  10000.00000|  1.000000|      4| 0.250|\n",
            "|  10000.00000|  1.000000|      5| 0.225|\n",
            "|  10000.00000| 10.000000|      1| 0.100|\n",
            "|  10000.00000| 10.000000|      2| 0.200|\n",
            "|  10000.00000| 10.000000|      3| 0.225|\n",
            "|  10000.00000| 10.000000|      4| 0.250|\n",
            "|  10000.00000| 10.000000|      5| 0.225|\n",
            "| 100000.00000|  0.000001|      1| 0.175|\n",
            "| 100000.00000|  0.000001|      2| 0.175|\n",
            "| 100000.00000|  0.000001|      3| 0.175|\n",
            "| 100000.00000|  0.000001|      4| 0.225|\n",
            "| 100000.00000|  0.000001|      5| 0.225|\n",
            "| 100000.00000|  0.000010|      1| 0.100|\n",
            "| 100000.00000|  0.000010|      2| 0.200|\n",
            "| 100000.00000|  0.000010|      3| 0.225|\n",
            "| 100000.00000|  0.000010|      4| 0.250|\n",
            "| 100000.00000|  0.000010|      5| 0.225|\n",
            "| 100000.00000|  0.000100|      1| 0.100|\n",
            "| 100000.00000|  0.000100|      2| 0.200|\n",
            "| 100000.00000|  0.000100|      3| 0.225|\n",
            "| 100000.00000|  0.000100|      4| 0.250|\n",
            "| 100000.00000|  0.000100|      5| 0.225|\n",
            "| 100000.00000|  0.001000|      1| 0.100|\n",
            "| 100000.00000|  0.001000|      2| 0.200|\n",
            "| 100000.00000|  0.001000|      3| 0.225|\n",
            "| 100000.00000|  0.001000|      4| 0.250|\n",
            "| 100000.00000|  0.001000|      5| 0.225|\n",
            "| 100000.00000|  0.010000|      1| 0.100|\n",
            "| 100000.00000|  0.010000|      2| 0.200|\n",
            "| 100000.00000|  0.010000|      3| 0.225|\n",
            "| 100000.00000|  0.010000|      4| 0.250|\n",
            "| 100000.00000|  0.010000|      5| 0.225|\n",
            "| 100000.00000|  0.100000|      1| 0.100|\n",
            "| 100000.00000|  0.100000|      2| 0.200|\n",
            "| 100000.00000|  0.100000|      3| 0.225|\n",
            "| 100000.00000|  0.100000|      4| 0.250|\n",
            "| 100000.00000|  0.100000|      5| 0.225|\n",
            "| 100000.00000|  1.000000|      1| 0.100|\n",
            "| 100000.00000|  1.000000|      2| 0.200|\n",
            "| 100000.00000|  1.000000|      3| 0.225|\n",
            "| 100000.00000|  1.000000|      4| 0.250|\n",
            "| 100000.00000|  1.000000|      5| 0.225|\n",
            "| 100000.00000| 10.000000|      1| 0.100|\n",
            "| 100000.00000| 10.000000|      2| 0.200|\n",
            "| 100000.00000| 10.000000|      3| 0.225|\n",
            "| 100000.00000| 10.000000|      4| 0.250|\n",
            "| 100000.00000| 10.000000|      5| 0.225|\n"
          ]
        }
      ]
    },
    {
      "cell_type": "code",
      "source": [
        "min_error <- min(results$Error)\n",
        "best_results_svmp <- results[results$Error == min_error, ]\n",
        "print(kable(best_results_svmp, format.args = list(scientific = FALSE), align = \"r\"))"
      ],
      "metadata": {
        "colab": {
          "base_uri": "https://localhost:8080/"
        },
        "id": "Z1H_N_JiokYH",
        "outputId": "d49c02b8-dd1c-42e4-e92b-ca0254bd4ea7"
      },
      "execution_count": 235,
      "outputs": [
        {
          "output_type": "stream",
          "name": "stdout",
          "text": [
            "\n",
            "\n",
            "|    |     Cost|    Gamma| Degree| Error|\n",
            "|:---|--------:|--------:|------:|-----:|\n",
            "|196 |      0.1| 10.00000|      1|   0.1|\n",
            "|231 |      1.0|  1.00000|      1|   0.1|\n",
            "|236 |      1.0| 10.00000|      1|   0.1|\n",
            "|266 |     10.0|  0.10000|      1|   0.1|\n",
            "|271 |     10.0|  1.00000|      1|   0.1|\n",
            "|276 |     10.0| 10.00000|      1|   0.1|\n",
            "|301 |    100.0|  0.01000|      1|   0.1|\n",
            "|306 |    100.0|  0.10000|      1|   0.1|\n",
            "|311 |    100.0|  1.00000|      1|   0.1|\n",
            "|316 |    100.0| 10.00000|      1|   0.1|\n",
            "|336 |   1000.0|  0.00100|      1|   0.1|\n",
            "|341 |   1000.0|  0.01000|      1|   0.1|\n",
            "|346 |   1000.0|  0.10000|      1|   0.1|\n",
            "|351 |   1000.0|  1.00000|      1|   0.1|\n",
            "|356 |   1000.0| 10.00000|      1|   0.1|\n",
            "|371 |  10000.0|  0.00010|      1|   0.1|\n",
            "|376 |  10000.0|  0.00100|      1|   0.1|\n",
            "|381 |  10000.0|  0.01000|      1|   0.1|\n",
            "|386 |  10000.0|  0.10000|      1|   0.1|\n",
            "|391 |  10000.0|  1.00000|      1|   0.1|\n",
            "|396 |  10000.0| 10.00000|      1|   0.1|\n",
            "|406 | 100000.0|  0.00001|      1|   0.1|\n",
            "|411 | 100000.0|  0.00010|      1|   0.1|\n",
            "|416 | 100000.0|  0.00100|      1|   0.1|\n",
            "|421 | 100000.0|  0.01000|      1|   0.1|\n",
            "|426 | 100000.0|  0.10000|      1|   0.1|\n",
            "|431 | 100000.0|  1.00000|      1|   0.1|\n",
            "|436 | 100000.0| 10.00000|      1|   0.1|\n"
          ]
        }
      ]
    },
    {
      "cell_type": "markdown",
      "source": [
        "Los costos muy pequeños no lograron obtener buenos resultados y en general este método funcionó muy bien con los polinomios de grado 1 obteniendo con gran diferencia los mejores resultados"
      ],
      "metadata": {
        "id": "cLzDMrqJWDmL"
      }
    },
    {
      "cell_type": "markdown",
      "metadata": {
        "id": "LAEDplrthtuW"
      },
      "source": [
        "## Comparación"
      ]
    },
    {
      "cell_type": "markdown",
      "metadata": {
        "id": "SaD8XKzL-HxV"
      },
      "source": [
        "Ahora corramos los distintos métodos con los mejores parámetros obtenidos y con todo el conjunto de train y comparemoslos entre ellos evaluando en test. Solo tenemos 9 puntos en test por lo que probablemente los errores obtenidos sean muy distintos a los que se podrian obtener en la distribución completa, de todas formas nos sirve para poder comparar entre los métodos."
      ]
    },
    {
      "cell_type": "markdown",
      "source": [
        "### RandomForest"
      ],
      "metadata": {
        "id": "87vqKptmTPf3"
      }
    },
    {
      "cell_type": "code",
      "source": [
        "final_results_rf <- data.frame(Mtry = numeric(),\n",
        "                               Train_Error = numeric(),\n",
        "                               Test_Error = numeric(),\n",
        "                               stringsAsFactors = FALSE)\n",
        "tree_count <- 1000\n",
        "\n",
        "for (i in 1:nrow(best_results_rf)) {\n",
        "  mtry <- best_results_rf$Mtry[i]\n",
        "\n",
        "  rf_model <- randomForest(\n",
        "    N_tipo ~ .,\n",
        "    data=train,\n",
        "    mtry = mtry,\n",
        "    ntree = tree_count\n",
        "  )\n",
        "\n",
        "  train_pred_rf <- predict(rf_model, train[, -ncol(train)])\n",
        "  train_error_rf <- mean(train_pred_rf != train$N_tipo)\n",
        "\n",
        "  test_pred_rf <- predict(rf_model, test[, -ncol(test)])\n",
        "  test_error_rf <- mean(test_pred_rf != test$N_tipo)\n",
        "\n",
        "  final_results_rf <- rbind(final_results_rf, data.frame(Mtry = mtry, Train_Error = train_error_rf, Test_Error = test_error_rf))\n",
        "}"
      ],
      "metadata": {
        "id": "caqcpafdvjDZ"
      },
      "execution_count": 236,
      "outputs": []
    },
    {
      "cell_type": "code",
      "source": [
        "print(kable(final_results_rf, format.args = list(scientific = FALSE), align = \"r\"))"
      ],
      "metadata": {
        "colab": {
          "base_uri": "https://localhost:8080/"
        },
        "id": "1c-hGKB7v8Y2",
        "outputId": "3b16352d-342e-4685-cdb3-3d5e3e4e2c01"
      },
      "execution_count": 237,
      "outputs": [
        {
          "output_type": "stream",
          "name": "stdout",
          "text": [
            "\n",
            "\n",
            "| Mtry| Train_Error| Test_Error|\n",
            "|----:|-----------:|----------:|\n",
            "|   17|           0|  0.1111111|\n"
          ]
        }
      ]
    },
    {
      "cell_type": "markdown",
      "source": [
        "### XGBoost"
      ],
      "metadata": {
        "id": "-ErEBdZVTTOt"
      }
    },
    {
      "cell_type": "code",
      "source": [
        "final_results_xgb <- data.frame(LearningRate = numeric(), Prof = integer(), Train_Error = numeric(), Test_Error = numeric(), stringsAsFactors = FALSE)\n",
        "\n",
        "nrounds <- 500\n",
        "\n",
        "for (i in 1:nrow(best_results_xgb)) {\n",
        "  # Obtener los parámetros de la fila actual\n",
        "  best_lr <- best_results_xgb$LearningRate[i]\n",
        "  best_max_depth <- best_results_xgb$Prof[i]\n",
        "\n",
        "  # Entrenar el modelo XGBoost con los mejores parámetros\n",
        "  m.xgb <- xgboost(\n",
        "    data = as.matrix(train[, -ncol(train)]),\n",
        "    label = as.integer(train$N_tipo) - 1,\n",
        "    objective = \"binary:hinge\",\n",
        "    nrounds = nrounds,\n",
        "    early_stopping_rounds = 1000,\n",
        "    eta = best_lr,\n",
        "    max.depth = best_max_depth,\n",
        "    colsample_bytree = 1,\n",
        "    verbose = 0,\n",
        "    subsample = 1\n",
        "  )\n",
        "\n",
        "  train_pred_xgb <- predict(m.xgb, as.matrix(train[, -ncol(train)]))\n",
        "  train_error_xgb <- mean(train_pred_xgb != (as.integer(train$N_tipo) - 1))\n",
        "\n",
        "  test_pred_xgb <- predict(m.xgb, as.matrix(test[, -ncol(test)]))\n",
        "  test_error_xgb <- mean(test_pred_xgb != (as.integer(test$N_tipo) - 1))\n",
        "\n",
        "  final_results_xgb <- rbind(final_results_xgb, data.frame(LearningRate = best_lr,\n",
        "                                                           Prof = best_max_depth,\n",
        "                                                           Train_Error = train_error_xgb,\n",
        "                                                           Test_Error = test_error_xgb))\n",
        "}"
      ],
      "metadata": {
        "id": "CLEq9p5qwhXJ"
      },
      "execution_count": 238,
      "outputs": []
    },
    {
      "cell_type": "code",
      "source": [
        "print(kable(final_results_xgb, format.args = list(scientific = FALSE), align = \"r\"))"
      ],
      "metadata": {
        "colab": {
          "base_uri": "https://localhost:8080/"
        },
        "id": "Sbez4mPZxI1Z",
        "outputId": "2fe98003-9d50-4dd5-8288-a80945cd8467"
      },
      "execution_count": 239,
      "outputs": [
        {
          "output_type": "stream",
          "name": "stdout",
          "text": [
            "\n",
            "\n",
            "| LearningRate| Prof| Train_Error| Test_Error|\n",
            "|------------:|----:|-----------:|----------:|\n",
            "|         0.01|    2|           0|  0.2222222|\n",
            "|         0.01|    3|           0|  0.2222222|\n",
            "|         0.01|    4|           0|  0.2222222|\n",
            "|         0.01|    5|           0|  0.2222222|\n",
            "|         0.01|    6|           0|  0.2222222|\n",
            "|         0.01|    7|           0|  0.2222222|\n",
            "|         0.01|    8|           0|  0.2222222|\n",
            "|         0.01|    9|           0|  0.2222222|\n",
            "|         0.01|   10|           0|  0.2222222|\n",
            "|         0.01|   11|           0|  0.2222222|\n",
            "|         0.01|   12|           0|  0.2222222|\n",
            "|         0.01|   13|           0|  0.2222222|\n",
            "|         0.01|   14|           0|  0.2222222|\n",
            "|         0.01|   15|           0|  0.2222222|\n",
            "|         0.01|   16|           0|  0.2222222|\n",
            "|         0.01|   17|           0|  0.2222222|\n",
            "|         0.01|   18|           0|  0.2222222|\n",
            "|         0.01|   19|           0|  0.2222222|\n",
            "|         0.01|   20|           0|  0.2222222|\n",
            "|         0.05|    2|           0|  0.2222222|\n",
            "|         0.05|    3|           0|  0.2222222|\n",
            "|         0.05|    4|           0|  0.2222222|\n",
            "|         0.05|    5|           0|  0.2222222|\n",
            "|         0.05|    6|           0|  0.2222222|\n",
            "|         0.05|    7|           0|  0.2222222|\n",
            "|         0.05|    8|           0|  0.2222222|\n",
            "|         0.05|    9|           0|  0.2222222|\n",
            "|         0.05|   10|           0|  0.2222222|\n",
            "|         0.05|   11|           0|  0.2222222|\n",
            "|         0.05|   12|           0|  0.2222222|\n",
            "|         0.05|   13|           0|  0.2222222|\n",
            "|         0.05|   14|           0|  0.2222222|\n",
            "|         0.05|   15|           0|  0.2222222|\n",
            "|         0.05|   16|           0|  0.2222222|\n",
            "|         0.05|   17|           0|  0.2222222|\n",
            "|         0.05|   18|           0|  0.2222222|\n",
            "|         0.05|   19|           0|  0.2222222|\n",
            "|         0.05|   20|           0|  0.2222222|\n",
            "|         0.10|    2|           0|  0.2222222|\n",
            "|         0.10|    3|           0|  0.2222222|\n",
            "|         0.10|    4|           0|  0.2222222|\n",
            "|         0.10|    5|           0|  0.2222222|\n",
            "|         0.10|    6|           0|  0.2222222|\n",
            "|         0.10|    7|           0|  0.2222222|\n",
            "|         0.10|    8|           0|  0.2222222|\n",
            "|         0.10|    9|           0|  0.2222222|\n",
            "|         0.10|   10|           0|  0.2222222|\n",
            "|         0.10|   11|           0|  0.2222222|\n",
            "|         0.10|   12|           0|  0.2222222|\n",
            "|         0.10|   13|           0|  0.2222222|\n",
            "|         0.10|   14|           0|  0.2222222|\n",
            "|         0.10|   15|           0|  0.2222222|\n",
            "|         0.10|   16|           0|  0.2222222|\n",
            "|         0.10|   17|           0|  0.2222222|\n",
            "|         0.10|   18|           0|  0.2222222|\n",
            "|         0.10|   19|           0|  0.2222222|\n",
            "|         0.10|   20|           0|  0.2222222|\n",
            "|         0.30|    2|           0|  0.2222222|\n",
            "|         0.30|    3|           0|  0.2222222|\n",
            "|         0.30|    4|           0|  0.2222222|\n",
            "|         0.30|    5|           0|  0.2222222|\n",
            "|         0.30|    6|           0|  0.2222222|\n",
            "|         0.30|    7|           0|  0.2222222|\n",
            "|         0.30|    8|           0|  0.2222222|\n",
            "|         0.30|    9|           0|  0.2222222|\n",
            "|         0.30|   10|           0|  0.2222222|\n",
            "|         0.30|   11|           0|  0.2222222|\n",
            "|         0.30|   12|           0|  0.2222222|\n",
            "|         0.30|   13|           0|  0.2222222|\n",
            "|         0.30|   14|           0|  0.2222222|\n",
            "|         0.30|   15|           0|  0.2222222|\n",
            "|         0.30|   16|           0|  0.2222222|\n",
            "|         0.30|   17|           0|  0.2222222|\n",
            "|         0.30|   18|           0|  0.2222222|\n",
            "|         0.30|   19|           0|  0.2222222|\n",
            "|         0.30|   20|           0|  0.2222222|\n"
          ]
        }
      ]
    },
    {
      "cell_type": "markdown",
      "source": [
        "### SVM RBF"
      ],
      "metadata": {
        "id": "zz2g1fyTTY50"
      }
    },
    {
      "cell_type": "code",
      "source": [
        "final_results_svmrbf <- data.frame(Cost = numeric(), Gamma = numeric(), Train_Error = numeric(), Test_Error = numeric(), stringsAsFactors = FALSE)\n",
        "\n",
        "for (i in 1:nrow(best_results_svmrbf)) {\n",
        "  # Obtener los parámetros de la fila actual\n",
        "  best_cost <- best_results_svmrbf$Cost[i]\n",
        "  best_gamma <- best_results_svmrbf$Gamma[i]\n",
        "\n",
        "  # Entrenar el modelo SVM con los mejores parámetros\n",
        "  suppressWarnings(svm_model <- svm(\n",
        "    N_tipo ~ .,\n",
        "    data = train,\n",
        "    type = 'C-classification',\n",
        "    kernel = \"radial\",\n",
        "    cost = best_cost,\n",
        "    gamma = best_gamma\n",
        "  ))\n",
        "\n",
        "  train_pred_svmrbf <- predict(svm_model, train[, -ncol(train)])\n",
        "  train_error_svmrbf <- mean(train_pred_svmrbf != train$N_tipo)\n",
        "\n",
        "  test_pred_svmrbf <- predict(svm_model, test[, -ncol(test)])\n",
        "  test_error_svmrbf <- mean(test_pred_svmrbf != test$N_tipo)\n",
        "\n",
        "  # Guardar los resultados en el dataframe\n",
        "  final_results_svmrbf <- rbind(final_results_svmrbf, data.frame(Cost = best_cost, Gamma = best_gamma, Train_Error = train_error_svmrbf, Test_Error = test_error_svmrbf))\n",
        "}\n"
      ],
      "metadata": {
        "id": "cWX7u47Xxupz"
      },
      "execution_count": 240,
      "outputs": []
    },
    {
      "cell_type": "code",
      "source": [
        "print(kable(final_results_svmrbf, format.args = list(scientific = FALSE), align = \"r\"))"
      ],
      "metadata": {
        "colab": {
          "base_uri": "https://localhost:8080/"
        },
        "id": "Er7dJfP8yAJg",
        "outputId": "6fe3f8cc-f149-4aa6-9c3d-c00aa1ed1cd0"
      },
      "execution_count": 241,
      "outputs": [
        {
          "output_type": "stream",
          "name": "stdout",
          "text": [
            "\n",
            "\n",
            "| Cost|    Gamma| Train_Error| Test_Error|\n",
            "|----:|--------:|-----------:|----------:|\n",
            "|  100| 0.000010|       0.100|  0.3333333|\n",
            "|  100| 0.000100|       0.050|  0.2222222|\n",
            "| 1000| 0.000001|       0.075|  0.2222222|\n"
          ]
        }
      ]
    },
    {
      "cell_type": "markdown",
      "source": [
        "### SVM Polinomial"
      ],
      "metadata": {
        "id": "iA1-316pTbcz"
      }
    },
    {
      "cell_type": "code",
      "source": [
        "final_results_svmp <- data.frame(Cost = numeric(), Gamma = numeric(), Degree = integer(), Train_Error = numeric(), Test_Error = numeric(), stringsAsFactors = FALSE)\n",
        "\n",
        "for (i in 1:nrow(best_results_svmp)) {\n",
        "  best_cost <- best_results_svmp$Cost[i]\n",
        "  best_gamma <- best_results_svmp$Gamma[i]\n",
        "  best_degree <- best_results_svmp$Degree[i]\n",
        "\n",
        "  suppressWarnings(svm_model <- svm(\n",
        "    N_tipo ~ .,\n",
        "    data = train,\n",
        "    type = 'C-classification',\n",
        "    kernel = \"polynomial\",\n",
        "    degree = best_degree,\n",
        "    cost = best_cost,\n",
        "    gamma = best_gamma\n",
        "  ))\n",
        "\n",
        "  train_pred_svmpol <- predict(svm_model, train[, -ncol(train)])\n",
        "  train_error_svmpol <- mean(train_pred_svmpol != train$N_tipo)\n",
        "\n",
        "  test_pred_svmpol <- predict(svm_model, test[, -ncol(test)])\n",
        "  test_error_svmpol <- mean(test_pred_svmpol != test$N_tipo)\n",
        "\n",
        "  final_results_svmp <- rbind(final_results_svmp, data.frame(Cost = best_cost, Gamma = best_gamma, Degree = best_degree, Train_Error = train_error_svmpol, Test_Error = test_error_svmpol))\n",
        "}"
      ],
      "metadata": {
        "id": "3J7c66-sySXo"
      },
      "execution_count": 242,
      "outputs": []
    },
    {
      "cell_type": "code",
      "execution_count": 243,
      "metadata": {
        "id": "w8tnsBKCDqWM",
        "colab": {
          "base_uri": "https://localhost:8080/"
        },
        "outputId": "5f3b9cdf-45a0-4edc-9418-d205f06ae58b"
      },
      "outputs": [
        {
          "output_type": "stream",
          "name": "stdout",
          "text": [
            "\n",
            "\n",
            "|     Cost|    Gamma| Degree| Train_Error| Test_Error|\n",
            "|--------:|--------:|------:|-----------:|----------:|\n",
            "|      0.1| 10.00000|      1|           0|          0|\n",
            "|      1.0|  1.00000|      1|           0|          0|\n",
            "|      1.0| 10.00000|      1|           0|          0|\n",
            "|     10.0|  0.10000|      1|           0|          0|\n",
            "|     10.0|  1.00000|      1|           0|          0|\n",
            "|     10.0| 10.00000|      1|           0|          0|\n",
            "|    100.0|  0.01000|      1|           0|          0|\n",
            "|    100.0|  0.10000|      1|           0|          0|\n",
            "|    100.0|  1.00000|      1|           0|          0|\n",
            "|    100.0| 10.00000|      1|           0|          0|\n",
            "|   1000.0|  0.00100|      1|           0|          0|\n",
            "|   1000.0|  0.01000|      1|           0|          0|\n",
            "|   1000.0|  0.10000|      1|           0|          0|\n",
            "|   1000.0|  1.00000|      1|           0|          0|\n",
            "|   1000.0| 10.00000|      1|           0|          0|\n",
            "|  10000.0|  0.00010|      1|           0|          0|\n",
            "|  10000.0|  0.00100|      1|           0|          0|\n",
            "|  10000.0|  0.01000|      1|           0|          0|\n",
            "|  10000.0|  0.10000|      1|           0|          0|\n",
            "|  10000.0|  1.00000|      1|           0|          0|\n",
            "|  10000.0| 10.00000|      1|           0|          0|\n",
            "| 100000.0|  0.00001|      1|           0|          0|\n",
            "| 100000.0|  0.00010|      1|           0|          0|\n",
            "| 100000.0|  0.00100|      1|           0|          0|\n",
            "| 100000.0|  0.01000|      1|           0|          0|\n",
            "| 100000.0|  0.10000|      1|           0|          0|\n",
            "| 100000.0|  1.00000|      1|           0|          0|\n",
            "| 100000.0| 10.00000|      1|           0|          0|\n"
          ]
        }
      ],
      "source": [
        "print(kable(final_results_svmp, format.args = list(scientific = FALSE), align = \"r\"))"
      ]
    },
    {
      "cell_type": "markdown",
      "source": [
        "### Gráfica"
      ],
      "metadata": {
        "id": "AP_rSvl2Tffg"
      }
    },
    {
      "cell_type": "code",
      "source": [
        "modelos <- c(\"RF\", \"Boosting\", \"SVM RBF\", \"SVM P\")\n",
        "errores_test <- c(min(final_results_rf$Test_Error), min(final_results_xgb$Test_Error), min(final_results_svmrbf$Test_Error), min(final_results_svmp$Test_Error))\n",
        "\n",
        "barplot(height = errores_test,\n",
        "        names.arg = modelos,\n",
        "        xlab = \"Modelo\",\n",
        "        ylab = \"Error\",\n",
        "        col = \"lightblue\",\n",
        "        border = \"blue\",\n",
        "        main = \"Errores en Test de los Modelos\")"
      ],
      "metadata": {
        "colab": {
          "base_uri": "https://localhost:8080/",
          "height": 437
        },
        "id": "Zp1wmVeMJdgz",
        "outputId": "3f5a57b1-748b-4b1f-bf6a-04ef6fcb8efb"
      },
      "execution_count": 244,
      "outputs": [
        {
          "output_type": "display_data",
          "data": {
            "text/plain": [
              "Plot with title “Errores en Test de los Modelos”"
            ],
            "image/png": "[encoded data removed]"
          },
          "metadata": {
            "image/png": {
              "width": 420,
              "height": 420
            }
          }
        }
      ]
    },
    {
      "cell_type": "markdown",
      "source": [
        "Claramente podemos ver que SVM Polinomial fue el de mejores resultados y despues de haber corrido el experimento muchas veces, esto suele ser asi siempre.\n",
        "\n",
        "Un método con el que suelo no estar conforme es con Boosting ya que es muy variable entre las corridas del experimento, probablemente se deba a que por la falta de samples las estimaciones de los mejores parametros esten siendo malas, a veces ocurre que es el peor método y otras logra obtener 0% de error.\n",
        "\n",
        "Random Forest en general me parece un muy buen método que siempre logra errores entre 0% y 11%, con la ventaja que es de los más rapidos para entrenar y el que tiene menos parámetros para optimizar.\n",
        "\n",
        "SVM RBF siempre fue el peor método, obteniendo 22% de error como mínimo entre todas las corridas de todo el experimento que hice (que no fueron pocas).\n",
        "\n",
        "Como análisis final que quiero hacer es que es muy difícil optimizar parametros y evaluarlos justamente cuando el dataset es muy pequeño ya que unos puntos sampleados distintos y cambian todos los resultados, siendo así, Random Forest me parece el mejor modelo ya que nos brinda el OOB error que nos da una muy buena cota superior, en este caso de 10,5% el cual se logró entrenando con solo los 40 puntos de train"
      ],
      "metadata": {
        "id": "2un2S4rfWktE"
      }
    },
    {
      "cell_type": "markdown",
      "metadata": {
        "id": "2ry7BZIQYrP7"
      },
      "source": [
        "# Ej 4"
      ]
    },
    {
      "cell_type": "markdown",
      "source": [
        "Correr este punto me tomo 42967 segundos (11 horas 56 minutos) sin contar una vez que lo corri con los parametros a probar equivocados.\n",
        "\n",
        "Con este dataset va a ser mas fácil obtener buenas estimaciones en la optimizacion de parámetros ya que se tienen muchos mas samples, de todas formas decidí utilizar la misma metodología que en el punto anterior."
      ],
      "metadata": {
        "id": "p_WoNvSAol19"
      }
    },
    {
      "cell_type": "markdown",
      "metadata": {
        "id": "IapuvlDQVD6m"
      },
      "source": [
        "## Cargar Dataset"
      ]
    },
    {
      "cell_type": "code",
      "execution_count": 9,
      "metadata": {
        "id": "WsKfILIhVD6n"
      },
      "outputs": [],
      "source": [
        "RRL <- RRL[sample(1:nrow(RRL)), ]\n",
        "\n",
        "test_indices <- sample(1:nrow(RRL), size = (0.2 * nrow(RRL)))\n",
        "test <- RRL[test_indices, ]\n",
        "train <- RRL[-test_indices, ]"
      ]
    },
    {
      "cell_type": "code",
      "source": [
        "nrow(test)\n",
        "nrow(train)"
      ],
      "metadata": {
        "colab": {
          "base_uri": "https://localhost:8080/",
          "height": 52
        },
        "id": "7ve6tA5VVuuv",
        "outputId": "6afe96a0-63db-46ab-ba1b-c2636bbb9620"
      },
      "execution_count": 10,
      "outputs": [
        {
          "output_type": "display_data",
          "data": {
            "text/html": [
              "1412"
            ],
            "text/markdown": "1412",
            "text/latex": "1412",
            "text/plain": [
              "[1] 1412"
            ]
          },
          "metadata": {}
        },
        {
          "output_type": "display_data",
          "data": {
            "text/html": [
              "5648"
            ],
            "text/markdown": "5648",
            "text/latex": "5648",
            "text/plain": [
              "[1] 5648"
            ]
          },
          "metadata": {}
        }
      ]
    },
    {
      "cell_type": "markdown",
      "metadata": {
        "id": "lhhW1qyteoP8"
      },
      "source": [
        "## Optimizacion de parámetros"
      ]
    },
    {
      "cell_type": "markdown",
      "metadata": {
        "id": "CpIS2NO-eoP9"
      },
      "source": [
        "### Random Forest"
      ]
    },
    {
      "cell_type": "code",
      "execution_count": null,
      "metadata": {
        "id": "Q5kAPqFmeoP-"
      },
      "outputs": [],
      "source": [
        "results_rrl_rf <- data.frame(Mtry = numeric(), Error = numeric(), stringsAsFactors = FALSE)\n",
        "\n",
        "mtry_values <- floor((ncol(train)-1) * (1 / 2)^(0:6))\n",
        "errors_avg <- c()\n",
        "tree_count <- 1000\n",
        "num_runs <- 5\n",
        "\n",
        "for (mtry in mtry_values) {\n",
        "  errors <- numeric(num_runs)\n",
        "\n",
        "  for (i in 1:num_runs) {\n",
        "    rf_model <- randomForest(\n",
        "      Tipo ~ .,\n",
        "      data=train,\n",
        "      mtry = mtry,\n",
        "      ntree = tree_count\n",
        "    )\n",
        "\n",
        "    errors[i] <- rf_model$err.rate[nrow(rf_model$err.rate), \"OOB\"]\n",
        "  }\n",
        "  errors_avg <- c(errors_avg, mean(errors))\n",
        "  results_rrl_rf <- rbind(results_rrl_rf, data.frame(Mtry = mtry, Error = errors_avg[length(errors_avg)]))\n",
        "}"
      ]
    },
    {
      "cell_type": "code",
      "source": [
        "load(\"/content/results_rrl_rf.RData\")"
      ],
      "metadata": {
        "id": "CjxbAGqIaW-j"
      },
      "execution_count": 11,
      "outputs": []
    },
    {
      "cell_type": "code",
      "source": [
        "print(kable(results_rrl_rf, format.args = list(scientific = FALSE), align = \"r\"))"
      ],
      "metadata": {
        "colab": {
          "base_uri": "https://localhost:8080/"
        },
        "outputId": "7acaeebd-0ef9-4f26-9a37-87cdf8cd3b24",
        "id": "BnAunj0beoP-"
      },
      "execution_count": 12,
      "outputs": [
        {
          "output_type": "stream",
          "name": "stdout",
          "text": [
            "\n",
            "\n",
            "| Mtry|     Error|\n",
            "|----:|---------:|\n",
            "|   69| 0.0458924|\n",
            "|   34| 0.0405453|\n",
            "|   17| 0.0400496|\n",
            "|    8| 0.0396955|\n",
            "|    4| 0.0403683|\n",
            "|    2| 0.0423159|\n",
            "|    1| 0.0461048|\n"
          ]
        }
      ]
    },
    {
      "cell_type": "code",
      "source": [
        "min_error <- min(results_rrl_rf$Error)\n",
        "best_results_rf <- results_rrl_rf[results_rrl_rf$Error == min_error, ]\n",
        "print(kable(best_results_rf, format.args = list(scientific = FALSE), align = \"r\"))"
      ],
      "metadata": {
        "colab": {
          "base_uri": "https://localhost:8080/"
        },
        "outputId": "adf0320b-9151-4f71-9c96-5bdb572fd042",
        "id": "f-Uu5ysIeoP-"
      },
      "execution_count": 13,
      "outputs": [
        {
          "output_type": "stream",
          "name": "stdout",
          "text": [
            "\n",
            "\n",
            "|   | Mtry|     Error|\n",
            "|:--|----:|---------:|\n",
            "|4  |    8| 0.0396955|\n"
          ]
        }
      ]
    },
    {
      "cell_type": "markdown",
      "source": [
        "Al igual que en el ejercicio 2, el mejor mtry es 8, el valor más cercano a la raiz cuadrada de 69."
      ],
      "metadata": {
        "id": "uO9bOKG2rYkp"
      }
    },
    {
      "cell_type": "markdown",
      "metadata": {
        "id": "jbfQqrhoeoP-"
      },
      "source": [
        "### XGBoosting"
      ]
    },
    {
      "cell_type": "code",
      "execution_count": null,
      "metadata": {
        "id": "uZdRfo4OeoP_"
      },
      "outputs": [],
      "source": [
        "results_rrl_xgb <- data.frame(LearningRate = numeric(), Prof = integer(), Error = numeric(), stringsAsFactors = FALSE)\n",
        "\n",
        "nrounds <- 1000\n",
        "learning_rates <- c(0.01, 0.05, 0.1, 0.3)\n",
        "profs <- 1:20\n",
        "num_folds <- 5\n",
        "folds <- cut(seq(1, nrow(train)), breaks = num_folds, labels = FALSE)\n",
        "\n",
        "for(i in 1:length(learning_rates)) {\n",
        "  for(j in 1:length(profs)) {\n",
        "    error_kfold <- k_fold_cv_xgboost(train, \"Tipo\", folds, learning_rates[i], nrounds, profs[j], num_folds)\n",
        "    results_rrl_xgb <- rbind(results_rrl_xgb, data.frame(LearningRate = learning_rates[i], Prof = profs[j], Error = error_kfold))\n",
        "  }\n",
        "}"
      ]
    },
    {
      "cell_type": "code",
      "source": [
        "load(\"/content/results_rrl_xgb.RData\")"
      ],
      "metadata": {
        "id": "6e9l8OFVda6W"
      },
      "execution_count": 14,
      "outputs": []
    },
    {
      "cell_type": "code",
      "source": [
        "print(kable(results_rrl_xgb, format.args = list(scientific = FALSE), align = \"r\"))"
      ],
      "metadata": {
        "colab": {
          "base_uri": "https://localhost:8080/"
        },
        "id": "tryj7P6geoP_",
        "outputId": "8b509298-0ca6-4193-b5c3-2786a58b54cb"
      },
      "execution_count": 15,
      "outputs": [
        {
          "output_type": "stream",
          "name": "stdout",
          "text": [
            "\n",
            "\n",
            "| LearningRate| Prof|     Error|\n",
            "|------------:|----:|---------:|\n",
            "|         0.01|    1| 0.0566547|\n",
            "|         0.01|    2| 0.0501043|\n",
            "|         0.01|    3| 0.0410751|\n",
            "|         0.01|    4| 0.0423136|\n",
            "|         0.01|    5| 0.0433760|\n",
            "|         0.01|    6| 0.0479797|\n",
            "|         0.01|    7| 0.0486881|\n",
            "|         0.01|    8| 0.0515207|\n",
            "|         0.01|    9| 0.0531141|\n",
            "|         0.01|   10| 0.0529370|\n",
            "|         0.01|   11| 0.0536443|\n",
            "|         0.01|   12| 0.0541759|\n",
            "|         0.01|   13| 0.0552379|\n",
            "|         0.01|   14| 0.0548840|\n",
            "|         0.01|   15| 0.0552393|\n",
            "|         0.01|   16| 0.0555926|\n",
            "|         0.01|   17| 0.0555926|\n",
            "|         0.01|   18| 0.0555932|\n",
            "|         0.01|   19| 0.0555923|\n",
            "|         0.01|   20| 0.0548845|\n",
            "|         0.05|    1| 0.0449688|\n",
            "|         0.05|    2| 0.0446157|\n",
            "|         0.05|    3| 0.0423145|\n",
            "|         0.05|    4| 0.0428455|\n",
            "|         0.05|    5| 0.0424909|\n",
            "|         0.05|    6| 0.0470949|\n",
            "|         0.05|    7| 0.0497503|\n",
            "|         0.05|    8| 0.0492192|\n",
            "|         0.05|    9| 0.0509888|\n",
            "|         0.05|   10| 0.0524054|\n",
            "|         0.05|   11| 0.0525824|\n",
            "|         0.05|   12| 0.0529360|\n",
            "|         0.05|   13| 0.0554158|\n",
            "|         0.05|   14| 0.0552380|\n",
            "|         0.05|   15| 0.0531141|\n",
            "|         0.05|   16| 0.0564768|\n",
            "|         0.05|   17| 0.0539988|\n",
            "|         0.05|   18| 0.0584253|\n",
            "|         0.05|   19| 0.0534683|\n",
            "|         0.05|   20| 0.0518746|\n",
            "|         0.10|    1| 0.0437306|\n",
            "|         0.10|    2| 0.0456770|\n",
            "|         0.10|    3| 0.0451467|\n",
            "|         0.10|    4| 0.0433769|\n",
            "|         0.10|    5| 0.0449697|\n",
            "|         0.10|    6| 0.0479800|\n",
            "|         0.10|    7| 0.0479806|\n",
            "|         0.10|    8| 0.0481568|\n",
            "|         0.10|    9| 0.0488649|\n",
            "|         0.10|   10| 0.0506361|\n",
            "|         0.10|   11| 0.0529362|\n",
            "|         0.10|   12| 0.0522293|\n",
            "|         0.10|   13| 0.0541762|\n",
            "|         0.10|   14| 0.0524049|\n",
            "|         0.10|   15| 0.0516974|\n",
            "|         0.10|   16| 0.0520519|\n",
            "|         0.10|   17| 0.0550612|\n",
            "|         0.10|   18| 0.0548848|\n",
            "|         0.10|   19| 0.0534681|\n",
            "|         0.10|   20| 0.0554155|\n",
            "|         0.30|    1| 0.0495724|\n",
            "|         0.30|    2| 0.0511661|\n",
            "|         0.30|    3| 0.0543545|\n",
            "|         0.30|    4| 0.0516982|\n",
            "|         0.30|    5| 0.0486879|\n",
            "|         0.30|    6| 0.0476269|\n",
            "|         0.30|    7| 0.0520517|\n",
            "|         0.30|    8| 0.0538218|\n",
            "|         0.30|    9| 0.0543529|\n",
            "|         0.30|   10| 0.0518746|\n",
            "|         0.30|   11| 0.0555923|\n",
            "|         0.30|   12| 0.0548851|\n",
            "|         0.30|   13| 0.0570092|\n",
            "|         0.30|   14| 0.0531135|\n",
            "|         0.30|   15| 0.0538219|\n",
            "|         0.30|   16| 0.0548850|\n",
            "|         0.30|   17| 0.0518758|\n",
            "|         0.30|   18| 0.0529373|\n",
            "|         0.30|   19| 0.0509901|\n",
            "|         0.30|   20| 0.0532910|\n"
          ]
        }
      ]
    },
    {
      "cell_type": "code",
      "source": [
        "min_error <- min(results_rrl_xgb$Error)\n",
        "best_results_xgb <- results_rrl_xgb[results_rrl_xgb$Error == min_error, ]\n",
        "print(kable(best_results_xgb, format.args = list(scientific = FALSE), align = \"r\"))"
      ],
      "metadata": {
        "colab": {
          "base_uri": "https://localhost:8080/"
        },
        "id": "gFo2QsI8eoP_",
        "outputId": "fc3ae795-e225-4524-9e4b-17a40e6abca7"
      },
      "execution_count": 16,
      "outputs": [
        {
          "output_type": "stream",
          "name": "stdout",
          "text": [
            "\n",
            "\n",
            "|   | LearningRate| Prof|     Error|\n",
            "|:--|------------:|----:|---------:|\n",
            "|3  |         0.01|    3| 0.0410751|\n"
          ]
        }
      ]
    },
    {
      "cell_type": "markdown",
      "source": [
        "Los parámetros optimos para XGBoosting fue de learning rate 0.01 y profundidad de 3.\n",
        "\n",
        "Podemos confirmar que este método funciona con weaklearners, ya que para todos los learning rates, mientras mas grande es la profundidad de los árboles peores son los resultados."
      ],
      "metadata": {
        "id": "fPJZPpZpriXh"
      }
    },
    {
      "cell_type": "markdown",
      "metadata": {
        "id": "2ir9pGm2eoP_"
      },
      "source": [
        "### SVM - RBF"
      ]
    },
    {
      "cell_type": "code",
      "execution_count": null,
      "metadata": {
        "id": "u-CTiauOeoP_"
      },
      "outputs": [],
      "source": [
        "results_rrl_svmrbf <- data.frame(Cost = numeric(),\n",
        "                      Gamma = numeric(),\n",
        "                      Error = numeric(),\n",
        "                      stringsAsFactors = FALSE)\n",
        "\n",
        "costs <- c(1, 10, 100, 1000, 10000, 100000)\n",
        "gammas <- c(0.0000001, 0.000001, 0.00001, 0.0001, 0.001, 0.01, 0.1, 1, 10)\n",
        "num_folds <- 5\n",
        "folds <- cut(seq(1, nrow(train)), breaks = num_folds, labels = FALSE)\n",
        "\n",
        "for(i in 1:length(costs)) {\n",
        "  for(j in 1:length(gammas)) {\n",
        "    suppressWarnings(error_kfold <- k_fold_cv_svm_RBF(train, \"Tipo\", folds, costs[i], gammas[j], num_folds))\n",
        "    results_rrl_svmrbf <- rbind(results_rrl_svmrbf, data.frame(Cost = costs[i], Gamma = gammas[j], Error = error_kfold))\n",
        "  }\n",
        "}"
      ]
    },
    {
      "cell_type": "code",
      "source": [
        "load(\"/content/results_rrl_svmrbf.RData\")"
      ],
      "metadata": {
        "id": "c2kwwWJviBh4"
      },
      "execution_count": 17,
      "outputs": []
    },
    {
      "cell_type": "code",
      "source": [
        "print(kable(results_rrl_svmrbf, format.args = list(scientific = FALSE), align = \"r\"))"
      ],
      "metadata": {
        "colab": {
          "base_uri": "https://localhost:8080/"
        },
        "id": "3jATwybpeoP_",
        "outputId": "01ca2f9a-0831-461a-9549-e82d019c3cde"
      },
      "execution_count": 18,
      "outputs": [
        {
          "output_type": "stream",
          "name": "stdout",
          "text": [
            "\n",
            "\n",
            "|         Cost|     Gamma|     Error|\n",
            "|------------:|---------:|---------:|\n",
            "|      0.00001|  0.000001| 0.5070765|\n",
            "|      0.00001|  0.000010| 0.5070765|\n",
            "|      0.00001|  0.000100| 0.5070765|\n",
            "|      0.00001|  0.001000| 0.5070765|\n",
            "|      0.00001|  0.010000| 0.5070765|\n",
            "|      0.00001|  0.100000| 0.5070765|\n",
            "|      0.00001|  1.000000| 0.5070765|\n",
            "|      0.00001| 10.000000| 0.5070765|\n",
            "|      0.00010|  0.000001| 0.5070765|\n",
            "|      0.00010|  0.000010| 0.5070765|\n",
            "|      0.00010|  0.000100| 0.5070765|\n",
            "|      0.00010|  0.001000| 0.5070765|\n",
            "|      0.00010|  0.010000| 0.5070765|\n",
            "|      0.00010|  0.100000| 0.5070765|\n",
            "|      0.00010|  1.000000| 0.5070765|\n",
            "|      0.00010| 10.000000| 0.5070765|\n",
            "|      0.00100|  0.000001| 0.5070765|\n",
            "|      0.00100|  0.000010| 0.5070765|\n",
            "|      0.00100|  0.000100| 0.5070765|\n",
            "|      0.00100|  0.001000| 0.5070765|\n",
            "|      0.00100|  0.010000| 0.5070765|\n",
            "|      0.00100|  0.100000| 0.5070765|\n",
            "|      0.00100|  1.000000| 0.5070765|\n",
            "|      0.00100| 10.000000| 0.5070765|\n",
            "|      0.01000|  0.000001| 0.5070765|\n",
            "|      0.01000|  0.000010| 0.5070765|\n",
            "|      0.01000|  0.000100| 0.5070765|\n",
            "|      0.01000|  0.001000| 0.2497891|\n",
            "|      0.01000|  0.010000| 0.1489035|\n",
            "|      0.01000|  0.100000| 0.4732497|\n",
            "|      0.01000|  1.000000| 0.5070765|\n",
            "|      0.01000| 10.000000| 0.5070765|\n",
            "|      0.10000|  0.000001| 0.5070765|\n",
            "|      0.10000|  0.000010| 0.5070765|\n",
            "|      0.10000|  0.000100| 0.1911992|\n",
            "|      0.10000|  0.001000| 0.1352695|\n",
            "|      0.10000|  0.010000| 0.1242940|\n",
            "|      0.10000|  0.100000| 0.1591713|\n",
            "|      0.10000|  1.000000| 0.5070765|\n",
            "|      0.10000| 10.000000| 0.5070765|\n",
            "|      1.00000|  0.000001| 0.5070765|\n",
            "|      1.00000|  0.000010| 0.1873057|\n",
            "|      1.00000|  0.000100| 0.1345612|\n",
            "|      1.00000|  0.001000| 0.1196899|\n",
            "|      1.00000|  0.010000| 0.0926005|\n",
            "|      1.00000|  0.100000| 0.1113676|\n",
            "|      1.00000|  1.000000| 0.5068994|\n",
            "|      1.00000| 10.000000| 0.5070765|\n",
            "|     10.00000|  0.000001| 0.1871284|\n",
            "|     10.00000|  0.000010| 0.1340304|\n",
            "|     10.00000|  0.000100| 0.1260641|\n",
            "|     10.00000|  0.001000| 0.0980893|\n",
            "|     10.00000|  0.010000| 0.0848104|\n",
            "|     10.00000|  0.100000| 0.1101285|\n",
            "|     10.00000|  1.000000| 0.5067222|\n",
            "|     10.00000| 10.000000| 0.5070765|\n",
            "|    100.00000|  0.000001| 0.1340304|\n",
            "|    100.00000|  0.000010| 0.1265954|\n",
            "|    100.00000|  0.000100| 0.1092435|\n",
            "|    100.00000|  0.001000| 0.0879972|\n",
            "|    100.00000|  0.010000| 0.1019841|\n",
            "|    100.00000|  0.100000| 0.1101285|\n",
            "|    100.00000|  1.000000| 0.5067222|\n",
            "|    100.00000| 10.000000| 0.5070765|\n",
            "|   1000.00000|  0.000001| 0.1265954|\n",
            "|   1000.00000|  0.000010| 0.1133154|\n",
            "|   1000.00000|  0.000100| 0.0924228|\n",
            "|   1000.00000|  0.001000| 0.0844553|\n",
            "|   1000.00000|  0.010000| 0.1161490|\n",
            "|   1000.00000|  0.100000| 0.1101285|\n",
            "|   1000.00000|  1.000000| 0.5067222|\n",
            "|   1000.00000| 10.000000| 0.5070765|\n",
            "|  10000.00000|  0.000001| 0.1142008|\n",
            "|  10000.00000|  0.000010| 0.1023373|\n",
            "|  10000.00000|  0.000100| 0.0871115|\n",
            "|  10000.00000|  0.001000| 0.0973796|\n",
            "|  10000.00000|  0.010000| 0.1161490|\n",
            "|  10000.00000|  0.100000| 0.1101285|\n",
            "|  10000.00000|  1.000000| 0.5067222|\n",
            "|  10000.00000| 10.000000| 0.5070765|\n",
            "| 100000.00000|  0.000001| 0.1062333|\n",
            "| 100000.00000|  0.000010| 0.0922456|\n",
            "| 100000.00000|  0.000100| 0.0848095|\n",
            "| 100000.00000|  0.001000| 0.1226992|\n",
            "| 100000.00000|  0.010000| 0.1161490|\n",
            "| 100000.00000|  0.100000| 0.1101285|\n",
            "| 100000.00000|  1.000000| 0.5067222|\n",
            "| 100000.00000| 10.000000| 0.5070765|\n"
          ]
        }
      ]
    },
    {
      "cell_type": "code",
      "source": [
        "min_error <- min(results_rrl_svmrbf$Error)\n",
        "best_results_svmrbf <- results_rrl_svmrbf[results_rrl_svmrbf$Error == min_error, ]\n",
        "print(kable(best_results_svmrbf, format.args = list(scientific = FALSE), align = \"r\"))"
      ],
      "metadata": {
        "colab": {
          "base_uri": "https://localhost:8080/"
        },
        "id": "4syb0BG7eoQA",
        "outputId": "a30b836e-9953-48ad-f260-41af5aa76b85"
      },
      "execution_count": 19,
      "outputs": [
        {
          "output_type": "stream",
          "name": "stdout",
          "text": [
            "\n",
            "\n",
            "|   | Cost| Gamma|     Error|\n",
            "|:--|----:|-----:|---------:|\n",
            "|68 | 1000| 0.001| 0.0844553|\n"
          ]
        }
      ]
    },
    {
      "cell_type": "markdown",
      "source": [
        "Los mejores resultados los obtuvimos con un costo de 1000 y gamma 0.001, de todas formas comparando con XGBoosting obtuvimos el doble de error."
      ],
      "metadata": {
        "id": "Qbj7_5_msOSV"
      }
    },
    {
      "cell_type": "markdown",
      "metadata": {
        "id": "qe0PYQZ3eoQA"
      },
      "source": [
        "### SVM - Polinomial"
      ]
    },
    {
      "cell_type": "code",
      "execution_count": null,
      "metadata": {
        "id": "-zx4mX-AeoQA"
      },
      "outputs": [],
      "source": [
        "results_rrl_svmp <- data.frame(Cost = numeric(), Gamma = numeric(), Degree = integer(), Error = numeric(), stringsAsFactors = FALSE)\n",
        "\n",
        "costs <- c(1, 10, 100, 1000, 10000, 100000)\n",
        "gammas <- c(0.0000001, 0.000001, 0.00001, 0.0001, 0.001, 0.01, 0.1, 1, 10)\n",
        "degrees <- 1:5\n",
        "num_folds <- 5\n",
        "folds <- cut(seq(1, nrow(train)), breaks = num_folds, labels = FALSE)\n",
        "\n",
        "for(i in 1:length(costs)) {\n",
        "  for(j in 1:length(gammas)) {\n",
        "    for(k in 1:length(degrees)) {\n",
        "      suppressWarnings(error_kfold <- k_fold_cv_svm_polinomial(train, \"Tipo\", folds, costs[i], gammas[j], degrees[k], num_folds))\n",
        "      results_rrl_svmp <- rbind(results_rrl_svmp, data.frame(Cost = costs[i], Gamma = gammas[j], Degree = degrees[k], Error = error_kfold))\n",
        "    }\n",
        "  }\n",
        "}"
      ]
    },
    {
      "cell_type": "code",
      "source": [
        "load(\"/content/results_rrl_svmp.RData\")"
      ],
      "metadata": {
        "id": "WDJt95cP7AYc"
      },
      "execution_count": 20,
      "outputs": []
    },
    {
      "cell_type": "code",
      "source": [
        "print(kable(results_rrl_svmp, format.args = list(scientific = FALSE), align = \"r\"))"
      ],
      "metadata": {
        "id": "f4BZT9kreoQA",
        "colab": {
          "base_uri": "https://localhost:8080/"
        },
        "outputId": "31f0e275-8516-4a7b-caf8-9b92e7edebbb"
      },
      "execution_count": 21,
      "outputs": [
        {
          "output_type": "stream",
          "name": "stdout",
          "text": [
            "\n",
            "\n",
            "|         Cost|     Gamma| Degree|     Error|\n",
            "|------------:|---------:|------:|---------:|\n",
            "|      0.00001|  0.000001|      1| 0.5070765|\n",
            "|      0.00001|  0.000001|      2| 0.5070765|\n",
            "|      0.00001|  0.000001|      3| 0.5070765|\n",
            "|      0.00001|  0.000001|      4| 0.5070765|\n",
            "|      0.00001|  0.000001|      5| 0.5070765|\n",
            "|      0.00001|  0.000010|      1| 0.5070765|\n",
            "|      0.00001|  0.000010|      2| 0.5070765|\n",
            "|      0.00001|  0.000010|      3| 0.5070765|\n",
            "|      0.00001|  0.000010|      4| 0.5070765|\n",
            "|      0.00001|  0.000010|      5| 0.5070765|\n",
            "|      0.00001|  0.000100|      1| 0.5070765|\n",
            "|      0.00001|  0.000100|      2| 0.5070765|\n",
            "|      0.00001|  0.000100|      3| 0.5070765|\n",
            "|      0.00001|  0.000100|      4| 0.5070765|\n",
            "|      0.00001|  0.000100|      5| 0.5070765|\n",
            "|      0.00001|  0.001000|      1| 0.5070765|\n",
            "|      0.00001|  0.001000|      2| 0.5070765|\n",
            "|      0.00001|  0.001000|      3| 0.5070765|\n",
            "|      0.00001|  0.001000|      4| 0.5070765|\n",
            "|      0.00001|  0.001000|      5| 0.5068994|\n",
            "|      0.00001|  0.010000|      1| 0.5070765|\n",
            "|      0.00001|  0.010000|      2| 0.5070765|\n",
            "|      0.00001|  0.010000|      3| 0.5065452|\n",
            "|      0.00001|  0.010000|      4| 0.5063679|\n",
            "|      0.00001|  0.010000|      5| 0.5042426|\n",
            "|      0.00001|  0.100000|      1| 0.5070765|\n",
            "|      0.00001|  0.100000|      2| 0.5060139|\n",
            "|      0.00001|  0.100000|      3| 0.4752098|\n",
            "|      0.00001|  0.100000|      4| 0.4622854|\n",
            "|      0.00001|  0.100000|      5| 0.4293528|\n",
            "|      0.00001|  1.000000|      1| 0.5058365|\n",
            "|      0.00001|  1.000000|      2| 0.3126733|\n",
            "|      0.00001|  1.000000|      3| 0.1111904|\n",
            "|      0.00001|  1.000000|      4| 0.1335010|\n",
            "|      0.00001|  1.000000|      5| 0.1196888|\n",
            "|      0.00001| 10.000000|      1| 0.1489032|\n",
            "|      0.00001| 10.000000|      2| 0.1209279|\n",
            "|      0.00001| 10.000000|      3| 0.1285429|\n",
            "|      0.00001| 10.000000|      4| 0.1467779|\n",
            "|      0.00001| 10.000000|      5| 0.1196887|\n",
            "|      0.00010|  0.000001|      1| 0.5070765|\n",
            "|      0.00010|  0.000001|      2| 0.5070765|\n",
            "|      0.00010|  0.000001|      3| 0.5070765|\n",
            "|      0.00010|  0.000001|      4| 0.5070765|\n",
            "|      0.00010|  0.000001|      5| 0.5070765|\n",
            "|      0.00010|  0.000010|      1| 0.5070765|\n",
            "|      0.00010|  0.000010|      2| 0.5070765|\n",
            "|      0.00010|  0.000010|      3| 0.5070765|\n",
            "|      0.00010|  0.000010|      4| 0.5070765|\n",
            "|      0.00010|  0.000010|      5| 0.5070765|\n",
            "|      0.00010|  0.000100|      1| 0.5070765|\n",
            "|      0.00010|  0.000100|      2| 0.5070765|\n",
            "|      0.00010|  0.000100|      3| 0.5070765|\n",
            "|      0.00010|  0.000100|      4| 0.5070765|\n",
            "|      0.00010|  0.000100|      5| 0.5070765|\n",
            "|      0.00010|  0.001000|      1| 0.5070765|\n",
            "|      0.00010|  0.001000|      2| 0.5070765|\n",
            "|      0.00010|  0.001000|      3| 0.5070765|\n",
            "|      0.00010|  0.001000|      4| 0.5068994|\n",
            "|      0.00010|  0.001000|      5| 0.5067224|\n",
            "|      0.00010|  0.010000|      1| 0.5070765|\n",
            "|      0.00010|  0.010000|      2| 0.5065452|\n",
            "|      0.00010|  0.010000|      3| 0.5063679|\n",
            "|      0.00010|  0.010000|      4| 0.5040656|\n",
            "|      0.00010|  0.010000|      5| 0.4872496|\n",
            "|      0.00010|  0.100000|      1| 0.5058365|\n",
            "|      0.00010|  0.100000|      2| 0.4851255|\n",
            "|      0.00010|  0.100000|      3| 0.2645057|\n",
            "|      0.00010|  0.100000|      4| 0.3891612|\n",
            "|      0.00010|  0.100000|      5| 0.1701420|\n",
            "|      0.00010|  1.000000|      1| 0.1487260|\n",
            "|      0.00010|  1.000000|      2| 0.1375707|\n",
            "|      0.00010|  1.000000|      3| 0.1085377|\n",
            "|      0.00010|  1.000000|      4| 0.1460701|\n",
            "|      0.00010|  1.000000|      5| 0.1196887|\n",
            "|      0.00010| 10.000000|      1| 0.1281883|\n",
            "|      0.00010| 10.000000|      2| 0.1219891|\n",
            "|      0.00010| 10.000000|      3| 0.1285429|\n",
            "|      0.00010| 10.000000|      4| 0.1467779|\n",
            "|      0.00010| 10.000000|      5| 0.1196887|\n",
            "|      0.00100|  0.000001|      1| 0.5070765|\n",
            "|      0.00100|  0.000001|      2| 0.5070765|\n",
            "|      0.00100|  0.000001|      3| 0.5070765|\n",
            "|      0.00100|  0.000001|      4| 0.5070765|\n",
            "|      0.00100|  0.000001|      5| 0.5070765|\n",
            "|      0.00100|  0.000010|      1| 0.5070765|\n",
            "|      0.00100|  0.000010|      2| 0.5070765|\n",
            "|      0.00100|  0.000010|      3| 0.5070765|\n",
            "|      0.00100|  0.000010|      4| 0.5070765|\n",
            "|      0.00100|  0.000010|      5| 0.5070765|\n",
            "|      0.00100|  0.000100|      1| 0.5070765|\n",
            "|      0.00100|  0.000100|      2| 0.5070765|\n",
            "|      0.00100|  0.000100|      3| 0.5070765|\n",
            "|      0.00100|  0.000100|      4| 0.5070765|\n",
            "|      0.00100|  0.000100|      5| 0.5070765|\n",
            "|      0.00100|  0.001000|      1| 0.5070765|\n",
            "|      0.00100|  0.001000|      2| 0.5070765|\n",
            "|      0.00100|  0.001000|      3| 0.5067224|\n",
            "|      0.00100|  0.001000|      4| 0.5065452|\n",
            "|      0.00100|  0.001000|      5| 0.5065452|\n",
            "|      0.00100|  0.010000|      1| 0.5058365|\n",
            "|      0.00100|  0.010000|      2| 0.5060139|\n",
            "|      0.00100|  0.010000|      3| 0.4890211|\n",
            "|      0.00100|  0.010000|      4| 0.4863645|\n",
            "|      0.00100|  0.010000|      5| 0.4856563|\n",
            "|      0.00100|  0.100000|      1| 0.1487260|\n",
            "|      0.00100|  0.100000|      2| 0.3126733|\n",
            "|      0.00100|  0.100000|      3| 0.1273005|\n",
            "|      0.00100|  0.100000|      4| 0.1584637|\n",
            "|      0.00100|  0.100000|      5| 0.1117212|\n",
            "|      0.00100|  1.000000|      1| 0.1281883|\n",
            "|      0.00100|  1.000000|      2| 0.1209279|\n",
            "|      0.00100|  1.000000|      3| 0.1276576|\n",
            "|      0.00100|  1.000000|      4| 0.1467779|\n",
            "|      0.00100|  1.000000|      5| 0.1196887|\n",
            "|      0.00100| 10.000000|      1| 0.1189812|\n",
            "|      0.00100| 10.000000|      2| 0.1416409|\n",
            "|      0.00100| 10.000000|      3| 0.1285429|\n",
            "|      0.00100| 10.000000|      4| 0.1467779|\n",
            "|      0.00100| 10.000000|      5| 0.1196887|\n",
            "|      0.01000|  0.000001|      1| 0.5070765|\n",
            "|      0.01000|  0.000001|      2| 0.5070765|\n",
            "|      0.01000|  0.000001|      3| 0.5070765|\n",
            "|      0.01000|  0.000001|      4| 0.5070765|\n",
            "|      0.01000|  0.000001|      5| 0.5070765|\n",
            "|      0.01000|  0.000010|      1| 0.5070765|\n",
            "|      0.01000|  0.000010|      2| 0.5070765|\n",
            "|      0.01000|  0.000010|      3| 0.5070765|\n",
            "|      0.01000|  0.000010|      4| 0.5070765|\n",
            "|      0.01000|  0.000010|      5| 0.5070765|\n",
            "|      0.01000|  0.000100|      1| 0.5070765|\n",
            "|      0.01000|  0.000100|      2| 0.5070765|\n",
            "|      0.01000|  0.000100|      3| 0.5070765|\n",
            "|      0.01000|  0.000100|      4| 0.5070765|\n",
            "|      0.01000|  0.000100|      5| 0.5070765|\n",
            "|      0.01000|  0.001000|      1| 0.5058365|\n",
            "|      0.01000|  0.001000|      2| 0.5065452|\n",
            "|      0.01000|  0.001000|      3| 0.5065452|\n",
            "|      0.01000|  0.001000|      4| 0.5063681|\n",
            "|      0.01000|  0.001000|      5| 0.5061909|\n",
            "|      0.01000|  0.010000|      1| 0.1489032|\n",
            "|      0.01000|  0.010000|      2| 0.4851255|\n",
            "|      0.01000|  0.010000|      3| 0.4752098|\n",
            "|      0.01000|  0.010000|      4| 0.4817611|\n",
            "|      0.01000|  0.010000|      5| 0.4819381|\n",
            "|      0.01000|  0.100000|      1| 0.1281883|\n",
            "|      0.01000|  0.100000|      2| 0.1375707|\n",
            "|      0.01000|  0.100000|      3| 0.1111904|\n",
            "|      0.01000|  0.100000|      4| 0.1188035|\n",
            "|      0.01000|  0.100000|      5| 0.1090684|\n",
            "|      0.01000|  1.000000|      1| 0.1189812|\n",
            "|      0.01000|  1.000000|      2| 0.1219891|\n",
            "|      0.01000|  1.000000|      3| 0.1285429|\n",
            "|      0.01000|  1.000000|      4| 0.1467779|\n",
            "|      0.01000|  1.000000|      5| 0.1196887|\n",
            "|      0.01000| 10.000000|      1| 0.1078262|\n",
            "|      0.01000| 10.000000|      2| 0.1598787|\n",
            "|      0.01000| 10.000000|      3| 0.1285429|\n",
            "|      0.01000| 10.000000|      4| 0.1467779|\n",
            "|      0.01000| 10.000000|      5| 0.1196887|\n",
            "|      0.10000|  0.000001|      1| 0.5070765|\n",
            "|      0.10000|  0.000001|      2| 0.5070765|\n",
            "|      0.10000|  0.000001|      3| 0.5070765|\n",
            "|      0.10000|  0.000001|      4| 0.5070765|\n",
            "|      0.10000|  0.000001|      5| 0.5070765|\n",
            "|      0.10000|  0.000010|      1| 0.5070765|\n",
            "|      0.10000|  0.000010|      2| 0.5070765|\n",
            "|      0.10000|  0.000010|      3| 0.5070765|\n",
            "|      0.10000|  0.000010|      4| 0.5070765|\n",
            "|      0.10000|  0.000010|      5| 0.5070765|\n",
            "|      0.10000|  0.000100|      1| 0.5058365|\n",
            "|      0.10000|  0.000100|      2| 0.5070765|\n",
            "|      0.10000|  0.000100|      3| 0.5070765|\n",
            "|      0.10000|  0.000100|      4| 0.5070765|\n",
            "|      0.10000|  0.000100|      5| 0.5070765|\n",
            "|      0.10000|  0.001000|      1| 0.1489032|\n",
            "|      0.10000|  0.001000|      2| 0.5060139|\n",
            "|      0.10000|  0.001000|      3| 0.5063679|\n",
            "|      0.10000|  0.001000|      4| 0.5063679|\n",
            "|      0.10000|  0.001000|      5| 0.5063679|\n",
            "|      0.10000|  0.010000|      1| 0.1281883|\n",
            "|      0.10000|  0.010000|      2| 0.3126733|\n",
            "|      0.10000|  0.010000|      3| 0.2645057|\n",
            "|      0.10000|  0.010000|      4| 0.4622854|\n",
            "|      0.10000|  0.010000|      5| 0.4674198|\n",
            "|      0.10000|  0.100000|      1| 0.1189812|\n",
            "|      0.10000|  0.100000|      2| 0.1209279|\n",
            "|      0.10000|  0.100000|      3| 0.1085377|\n",
            "|      0.10000|  0.100000|      4| 0.1335010|\n",
            "|      0.10000|  0.100000|      5| 0.1163263|\n",
            "|      0.10000|  1.000000|      1| 0.1078262|\n",
            "|      0.10000|  1.000000|      2| 0.1416409|\n",
            "|      0.10000|  1.000000|      3| 0.1285429|\n",
            "|      0.10000|  1.000000|      4| 0.1467779|\n",
            "|      0.10000|  1.000000|      5| 0.1196887|\n",
            "|      0.10000| 10.000000|      1| 0.1018060|\n",
            "|      0.10000| 10.000000|      2| 0.1598790|\n",
            "|      0.10000| 10.000000|      3| 0.1285429|\n",
            "|      0.10000| 10.000000|      4| 0.1467779|\n",
            "|      0.10000| 10.000000|      5| 0.1196887|\n",
            "|      1.00000|  0.000001|      1| 0.5070765|\n",
            "|      1.00000|  0.000001|      2| 0.5070765|\n",
            "|      1.00000|  0.000001|      3| 0.5070765|\n",
            "|      1.00000|  0.000001|      4| 0.5070765|\n",
            "|      1.00000|  0.000001|      5| 0.5070765|\n",
            "|      1.00000|  0.000010|      1| 0.5058365|\n",
            "|      1.00000|  0.000010|      2| 0.5070765|\n",
            "|      1.00000|  0.000010|      3| 0.5070765|\n",
            "|      1.00000|  0.000010|      4| 0.5070765|\n",
            "|      1.00000|  0.000010|      5| 0.5070765|\n",
            "|      1.00000|  0.000100|      1| 0.1489032|\n",
            "|      1.00000|  0.000100|      2| 0.5065452|\n",
            "|      1.00000|  0.000100|      3| 0.5067224|\n",
            "|      1.00000|  0.000100|      4| 0.5068994|\n",
            "|      1.00000|  0.000100|      5| 0.5068994|\n",
            "|      1.00000|  0.001000|      1| 0.1281883|\n",
            "|      1.00000|  0.001000|      2| 0.4851255|\n",
            "|      1.00000|  0.001000|      3| 0.4890211|\n",
            "|      1.00000|  0.001000|      4| 0.5040656|\n",
            "|      1.00000|  0.001000|      5| 0.5042426|\n",
            "|      1.00000|  0.010000|      1| 0.1189812|\n",
            "|      1.00000|  0.010000|      2| 0.1375707|\n",
            "|      1.00000|  0.010000|      3| 0.1273005|\n",
            "|      1.00000|  0.010000|      4| 0.3891612|\n",
            "|      1.00000|  0.010000|      5| 0.4293528|\n",
            "|      1.00000|  0.100000|      1| 0.1078262|\n",
            "|      1.00000|  0.100000|      2| 0.1219891|\n",
            "|      1.00000|  0.100000|      3| 0.1276576|\n",
            "|      1.00000|  0.100000|      4| 0.1460701|\n",
            "|      1.00000|  0.100000|      5| 0.1196888|\n",
            "|      1.00000|  1.000000|      1| 0.1018060|\n",
            "|      1.00000|  1.000000|      2| 0.1598787|\n",
            "|      1.00000|  1.000000|      3| 0.1285429|\n",
            "|      1.00000|  1.000000|      4| 0.1467779|\n",
            "|      1.00000|  1.000000|      5| 0.1196887|\n",
            "|      1.00000| 10.000000|      1| 0.0975568|\n",
            "|      1.00000| 10.000000|      2| 0.1598790|\n",
            "|      1.00000| 10.000000|      3| 0.1285429|\n",
            "|      1.00000| 10.000000|      4| 0.1467779|\n",
            "|      1.00000| 10.000000|      5| 0.1196887|\n",
            "|     10.00000|  0.000001|      1| 0.5058365|\n",
            "|     10.00000|  0.000001|      2| 0.5070765|\n",
            "|     10.00000|  0.000001|      3| 0.5070765|\n",
            "|     10.00000|  0.000001|      4| 0.5070765|\n",
            "|     10.00000|  0.000001|      5| 0.5070765|\n",
            "|     10.00000|  0.000010|      1| 0.1487260|\n",
            "|     10.00000|  0.000010|      2| 0.5070765|\n",
            "|     10.00000|  0.000010|      3| 0.5070765|\n",
            "|     10.00000|  0.000010|      4| 0.5070765|\n",
            "|     10.00000|  0.000010|      5| 0.5070765|\n",
            "|     10.00000|  0.000100|      1| 0.1281883|\n",
            "|     10.00000|  0.000100|      2| 0.5060139|\n",
            "|     10.00000|  0.000100|      3| 0.5065452|\n",
            "|     10.00000|  0.000100|      4| 0.5065452|\n",
            "|     10.00000|  0.000100|      5| 0.5067224|\n",
            "|     10.00000|  0.001000|      1| 0.1189812|\n",
            "|     10.00000|  0.001000|      2| 0.3126733|\n",
            "|     10.00000|  0.001000|      3| 0.4752098|\n",
            "|     10.00000|  0.001000|      4| 0.4863645|\n",
            "|     10.00000|  0.001000|      5| 0.4872496|\n",
            "|     10.00000|  0.010000|      1| 0.1078262|\n",
            "|     10.00000|  0.010000|      2| 0.1209279|\n",
            "|     10.00000|  0.010000|      3| 0.1111904|\n",
            "|     10.00000|  0.010000|      4| 0.1586407|\n",
            "|     10.00000|  0.010000|      5| 0.1701420|\n",
            "|     10.00000|  0.100000|      1| 0.1018060|\n",
            "|     10.00000|  0.100000|      2| 0.1416409|\n",
            "|     10.00000|  0.100000|      3| 0.1285429|\n",
            "|     10.00000|  0.100000|      4| 0.1467779|\n",
            "|     10.00000|  0.100000|      5| 0.1196887|\n",
            "|     10.00000|  1.000000|      1| 0.0975569|\n",
            "|     10.00000|  1.000000|      2| 0.1598790|\n",
            "|     10.00000|  1.000000|      3| 0.1285429|\n",
            "|     10.00000|  1.000000|      4| 0.1467779|\n",
            "|     10.00000|  1.000000|      5| 0.1196887|\n",
            "|     10.00000| 10.000000|      1| 0.0936616|\n",
            "|     10.00000| 10.000000|      2| 0.1598790|\n",
            "|     10.00000| 10.000000|      3| 0.1285429|\n",
            "|     10.00000| 10.000000|      4| 0.1467779|\n",
            "|     10.00000| 10.000000|      5| 0.1196887|\n",
            "|    100.00000|  0.000001|      1| 0.1489032|\n",
            "|    100.00000|  0.000001|      2| 0.5070765|\n",
            "|    100.00000|  0.000001|      3| 0.5070765|\n",
            "|    100.00000|  0.000001|      4| 0.5070765|\n",
            "|    100.00000|  0.000001|      5| 0.5070765|\n",
            "|    100.00000|  0.000010|      1| 0.1281883|\n",
            "|    100.00000|  0.000010|      2| 0.5065452|\n",
            "|    100.00000|  0.000010|      3| 0.5070765|\n",
            "|    100.00000|  0.000010|      4| 0.5070765|\n",
            "|    100.00000|  0.000010|      5| 0.5070765|\n",
            "|    100.00000|  0.000100|      1| 0.1189812|\n",
            "|    100.00000|  0.000100|      2| 0.4851255|\n",
            "|    100.00000|  0.000100|      3| 0.5063679|\n",
            "|    100.00000|  0.000100|      4| 0.5063681|\n",
            "|    100.00000|  0.000100|      5| 0.5065452|\n",
            "|    100.00000|  0.001000|      1| 0.1078262|\n",
            "|    100.00000|  0.001000|      2| 0.1375707|\n",
            "|    100.00000|  0.001000|      3| 0.2645057|\n",
            "|    100.00000|  0.001000|      4| 0.4817611|\n",
            "|    100.00000|  0.001000|      5| 0.4856563|\n",
            "|    100.00000|  0.010000|      1| 0.1018060|\n",
            "|    100.00000|  0.010000|      2| 0.1219891|\n",
            "|    100.00000|  0.010000|      3| 0.1085377|\n",
            "|    100.00000|  0.010000|      4| 0.1188035|\n",
            "|    100.00000|  0.010000|      5| 0.1117212|\n",
            "|    100.00000|  0.100000|      1| 0.0975568|\n",
            "|    100.00000|  0.100000|      2| 0.1598787|\n",
            "|    100.00000|  0.100000|      3| 0.1285429|\n",
            "|    100.00000|  0.100000|      4| 0.1467779|\n",
            "|    100.00000|  0.100000|      5| 0.1196887|\n",
            "|    100.00000|  1.000000|      1| 0.0949010|\n",
            "|    100.00000|  1.000000|      2| 0.1598790|\n",
            "|    100.00000|  1.000000|      3| 0.1285429|\n",
            "|    100.00000|  1.000000|      4| 0.1467779|\n",
            "|    100.00000|  1.000000|      5| 0.1196887|\n",
            "|    100.00000| 10.000000|      1| 0.0972017|\n",
            "|    100.00000| 10.000000|      2| 0.1598790|\n",
            "|    100.00000| 10.000000|      3| 0.1285429|\n",
            "|    100.00000| 10.000000|      4| 0.1467779|\n",
            "|    100.00000| 10.000000|      5| 0.1196887|\n",
            "|   1000.00000|  0.000001|      1| 0.1281883|\n",
            "|   1000.00000|  0.000001|      2| 0.5070765|\n",
            "|   1000.00000|  0.000001|      3| 0.5070765|\n",
            "|   1000.00000|  0.000001|      4| 0.5070765|\n",
            "|   1000.00000|  0.000001|      5| 0.5070765|\n",
            "|   1000.00000|  0.000010|      1| 0.1189812|\n",
            "|   1000.00000|  0.000010|      2| 0.5060139|\n",
            "|   1000.00000|  0.000010|      3| 0.5067224|\n",
            "|   1000.00000|  0.000010|      4| 0.5070765|\n",
            "|   1000.00000|  0.000010|      5| 0.5070765|\n",
            "|   1000.00000|  0.000100|      1| 0.1078262|\n",
            "|   1000.00000|  0.000100|      2| 0.3126733|\n",
            "|   1000.00000|  0.000100|      3| 0.4890211|\n",
            "|   1000.00000|  0.000100|      4| 0.5063679|\n",
            "|   1000.00000|  0.000100|      5| 0.5061909|\n",
            "|   1000.00000|  0.001000|      1| 0.1019830|\n",
            "|   1000.00000|  0.001000|      2| 0.1209279|\n",
            "|   1000.00000|  0.001000|      3| 0.1273005|\n",
            "|   1000.00000|  0.001000|      4| 0.4622854|\n",
            "|   1000.00000|  0.001000|      5| 0.4819381|\n",
            "|   1000.00000|  0.010000|      1| 0.0975568|\n",
            "|   1000.00000|  0.010000|      2| 0.1416409|\n",
            "|   1000.00000|  0.010000|      3| 0.1276576|\n",
            "|   1000.00000|  0.010000|      4| 0.1335010|\n",
            "|   1000.00000|  0.010000|      5| 0.1090684|\n",
            "|   1000.00000|  0.100000|      1| 0.0952556|\n",
            "|   1000.00000|  0.100000|      2| 0.1598790|\n",
            "|   1000.00000|  0.100000|      3| 0.1285429|\n",
            "|   1000.00000|  0.100000|      4| 0.1467779|\n",
            "|   1000.00000|  0.100000|      5| 0.1196887|\n",
            "|   1000.00000|  1.000000|      1| 0.0970256|\n",
            "|   1000.00000|  1.000000|      2| 0.1598790|\n",
            "|   1000.00000|  1.000000|      3| 0.1285429|\n",
            "|   1000.00000|  1.000000|      4| 0.1467779|\n",
            "|   1000.00000|  1.000000|      5| 0.1196887|\n",
            "|   1000.00000| 10.000000|      1| 0.3187151|\n",
            "|   1000.00000| 10.000000|      2| 0.1598790|\n",
            "|   1000.00000| 10.000000|      3| 0.1285429|\n",
            "|   1000.00000| 10.000000|      4| 0.1467779|\n",
            "|   1000.00000| 10.000000|      5| 0.1196887|\n",
            "|  10000.00000|  0.000001|      1| 0.1189812|\n",
            "|  10000.00000|  0.000001|      2| 0.5065452|\n",
            "|  10000.00000|  0.000001|      3| 0.5070765|\n",
            "|  10000.00000|  0.000001|      4| 0.5070765|\n",
            "|  10000.00000|  0.000001|      5| 0.5070765|\n",
            "|  10000.00000|  0.000010|      1| 0.1078262|\n",
            "|  10000.00000|  0.000010|      2| 0.4851255|\n",
            "|  10000.00000|  0.000010|      3| 0.5065452|\n",
            "|  10000.00000|  0.000010|      4| 0.5068994|\n",
            "|  10000.00000|  0.000010|      5| 0.5070765|\n",
            "|  10000.00000|  0.000100|      1| 0.1018060|\n",
            "|  10000.00000|  0.000100|      2| 0.1375707|\n",
            "|  10000.00000|  0.000100|      3| 0.4752098|\n",
            "|  10000.00000|  0.000100|      4| 0.5040656|\n",
            "|  10000.00000|  0.000100|      5| 0.5063679|\n",
            "|  10000.00000|  0.001000|      1| 0.0975568|\n",
            "|  10000.00000|  0.001000|      2| 0.1219891|\n",
            "|  10000.00000|  0.001000|      3| 0.1111904|\n",
            "|  10000.00000|  0.001000|      4| 0.3891612|\n",
            "|  10000.00000|  0.001000|      5| 0.4674198|\n",
            "|  10000.00000|  0.010000|      1| 0.0952549|\n",
            "|  10000.00000|  0.010000|      2| 0.1598787|\n",
            "|  10000.00000|  0.010000|      3| 0.1285429|\n",
            "|  10000.00000|  0.010000|      4| 0.1460701|\n",
            "|  10000.00000|  0.010000|      5| 0.1163263|\n",
            "|  10000.00000|  0.100000|      1| 0.0970252|\n",
            "|  10000.00000|  0.100000|      2| 0.1598790|\n",
            "|  10000.00000|  0.100000|      3| 0.1285429|\n",
            "|  10000.00000|  0.100000|      4| 0.1467779|\n",
            "|  10000.00000|  0.100000|      5| 0.1196887|\n",
            "|  10000.00000|  1.000000|      1| 0.3608660|\n",
            "|  10000.00000|  1.000000|      2| 0.1598790|\n",
            "|  10000.00000|  1.000000|      3| 0.1285429|\n",
            "|  10000.00000|  1.000000|      4| 0.1467779|\n",
            "|  10000.00000|  1.000000|      5| 0.1196887|\n",
            "|  10000.00000| 10.000000|      1| 0.2556513|\n",
            "|  10000.00000| 10.000000|      2| 0.1598790|\n",
            "|  10000.00000| 10.000000|      3| 0.1285429|\n",
            "|  10000.00000| 10.000000|      4| 0.1467779|\n",
            "|  10000.00000| 10.000000|      5| 0.1196887|\n",
            "| 100000.00000|  0.000001|      1| 0.1078262|\n",
            "| 100000.00000|  0.000001|      2| 0.5060139|\n",
            "| 100000.00000|  0.000001|      3| 0.5070765|\n",
            "| 100000.00000|  0.000001|      4| 0.5070765|\n",
            "| 100000.00000|  0.000001|      5| 0.5070765|\n",
            "| 100000.00000|  0.000010|      1| 0.1018060|\n",
            "| 100000.00000|  0.000010|      2| 0.3126733|\n",
            "| 100000.00000|  0.000010|      3| 0.5063679|\n",
            "| 100000.00000|  0.000010|      4| 0.5065452|\n",
            "| 100000.00000|  0.000010|      5| 0.5068994|\n",
            "| 100000.00000|  0.000100|      1| 0.0975568|\n",
            "| 100000.00000|  0.000100|      2| 0.1209279|\n",
            "| 100000.00000|  0.000100|      3| 0.2645057|\n",
            "| 100000.00000|  0.000100|      4| 0.4863645|\n",
            "| 100000.00000|  0.000100|      5| 0.5042426|\n",
            "| 100000.00000|  0.001000|      1| 0.0954327|\n",
            "| 100000.00000|  0.001000|      2| 0.1416409|\n",
            "| 100000.00000|  0.001000|      3| 0.1085377|\n",
            "| 100000.00000|  0.001000|      4| 0.1584635|\n",
            "| 100000.00000|  0.001000|      5| 0.4293528|\n",
            "| 100000.00000|  0.010000|      1| 0.0966706|\n",
            "| 100000.00000|  0.010000|      2| 0.1598790|\n",
            "| 100000.00000|  0.010000|      3| 0.1285429|\n",
            "| 100000.00000|  0.010000|      4| 0.1467779|\n",
            "| 100000.00000|  0.010000|      5| 0.1196888|\n",
            "| 100000.00000|  0.100000|      1| 0.3376463|\n",
            "| 100000.00000|  0.100000|      2| 0.1598790|\n",
            "| 100000.00000|  0.100000|      3| 0.1285429|\n",
            "| 100000.00000|  0.100000|      4| 0.1467779|\n",
            "| 100000.00000|  0.100000|      5| 0.1196887|\n",
            "| 100000.00000|  1.000000|      1| 0.3123344|\n",
            "| 100000.00000|  1.000000|      2| 0.1598790|\n",
            "| 100000.00000|  1.000000|      3| 0.1285429|\n",
            "| 100000.00000|  1.000000|      4| 0.1467779|\n",
            "| 100000.00000|  1.000000|      5| 0.1196887|\n",
            "| 100000.00000| 10.000000|      1| 0.2491230|\n",
            "| 100000.00000| 10.000000|      2| 0.1598790|\n",
            "| 100000.00000| 10.000000|      3| 0.1285429|\n",
            "| 100000.00000| 10.000000|      4| 0.1467779|\n",
            "| 100000.00000| 10.000000|      5| 0.1196887|\n"
          ]
        }
      ]
    },
    {
      "cell_type": "code",
      "source": [
        "min_error <- min(results_rrl_svmp$Error)\n",
        "best_results_svmp <- results_rrl_svmp [results_rrl_svmp$Error == min_error, ]\n",
        "print(kable(best_results_svmp, format.args = list(scientific = FALSE), align = \"r\"))"
      ],
      "metadata": {
        "id": "I1z7cHyPeoQA",
        "colab": {
          "base_uri": "https://localhost:8080/"
        },
        "outputId": "7019ee22-5147-4825-e66e-eb98f074ece4"
      },
      "execution_count": 22,
      "outputs": [
        {
          "output_type": "stream",
          "name": "stdout",
          "text": [
            "\n",
            "\n",
            "|    | Cost| Gamma| Degree|     Error|\n",
            "|:---|----:|-----:|------:|---------:|\n",
            "|276 |   10|    10|      1| 0.0936616|\n"
          ]
        }
      ]
    },
    {
      "cell_type": "markdown",
      "source": [
        "Los mejores parametros los obtuvimos con costo 10, gamma 10 y grado 1, nuevamente el error es mucho peor que en los otros métodos."
      ],
      "metadata": {
        "id": "bGBRXiTOxx-Q"
      }
    },
    {
      "cell_type": "markdown",
      "metadata": {
        "id": "2JVgB63AIuZM"
      },
      "source": [
        "## Comparación"
      ]
    },
    {
      "cell_type": "markdown",
      "metadata": {
        "id": "_r2YyOzmIuZM"
      },
      "source": [
        "Ahora corramos los distintos métodos con los mejores parámetros obtenidos y con todo el conjunto de train y comparemoslos entre ellos evaluando en test."
      ]
    },
    {
      "cell_type": "markdown",
      "source": [
        "### RandomForest"
      ],
      "metadata": {
        "id": "FLamUm7IIuZN"
      }
    },
    {
      "cell_type": "code",
      "source": [
        "final_results_rf <- data.frame(Mtry = numeric(),\n",
        "                               Train_Error = numeric(),\n",
        "                               Test_Error = numeric(),\n",
        "                               stringsAsFactors = FALSE)\n",
        "tree_count <- 1000\n",
        "\n",
        "for (i in 1:nrow(best_results_rf)) {\n",
        "  mtry <- best_results_rf$Mtry[i]\n",
        "\n",
        "  rf_model <- randomForest(\n",
        "    Tipo ~ .,\n",
        "    data=train,\n",
        "    mtry = mtry,\n",
        "    ntree = tree_count\n",
        "  )\n",
        "\n",
        "  train_pred_rf <- predict(rf_model, train[, -ncol(train)])\n",
        "  train_error_rf <- mean(train_pred_rf != train$Tipo)\n",
        "\n",
        "  test_pred_rf <- predict(rf_model, test[, -ncol(test)])\n",
        "  test_error_rf <- mean(test_pred_rf != test$Tipo)\n",
        "\n",
        "  final_results_rf <- rbind(final_results_rf, data.frame(Mtry = mtry, Train_Error = train_error_rf, Test_Error = test_error_rf))\n",
        "}"
      ],
      "metadata": {
        "id": "00jezIcuIuZN"
      },
      "execution_count": 23,
      "outputs": []
    },
    {
      "cell_type": "code",
      "source": [
        "print(kable(final_results_rf, format.args = list(scientific = FALSE), align = \"r\"))"
      ],
      "metadata": {
        "id": "f7ydUI0FIuZO",
        "colab": {
          "base_uri": "https://localhost:8080/"
        },
        "outputId": "e5c65f48-fa1d-43d0-d85e-d7b7410babeb"
      },
      "execution_count": 24,
      "outputs": [
        {
          "output_type": "stream",
          "name": "stdout",
          "text": [
            "\n",
            "\n",
            "| Mtry| Train_Error| Test_Error|\n",
            "|----:|-----------:|----------:|\n",
            "|    8|           0|   0.036119|\n"
          ]
        }
      ]
    },
    {
      "cell_type": "markdown",
      "source": [
        "### XGBoost"
      ],
      "metadata": {
        "id": "rj1dow5cIuZO"
      }
    },
    {
      "cell_type": "code",
      "source": [
        "final_results_xgb <- data.frame(LearningRate = numeric(), Prof = integer(), Train_Error = numeric(), Test_Error = numeric(), stringsAsFactors = FALSE)\n",
        "\n",
        "nrounds <- 1000\n",
        "\n",
        "for (i in 1:nrow(best_results_xgb)) {\n",
        "  # Obtener los parámetros de la fila actual\n",
        "  best_lr <- best_results_xgb$LearningRate[i]\n",
        "  best_max_depth <- best_results_xgb$Prof[i]\n",
        "\n",
        "  # Entrenar el modelo XGBoost con los mejores parámetros\n",
        "  m.xgb <- xgboost(\n",
        "    data = as.matrix(train[, -ncol(train)]),\n",
        "    label = as.integer(train$Tipo) - 1,\n",
        "    objective = \"binary:hinge\",\n",
        "    nrounds = nrounds,\n",
        "    early_stopping_rounds = 1000,\n",
        "    eta = best_lr,\n",
        "    max.depth = best_max_depth,\n",
        "    colsample_bytree = 1,\n",
        "    verbose = 0,\n",
        "    subsample = 1\n",
        "  )\n",
        "\n",
        "  train_pred_xgb <- predict(m.xgb, as.matrix(train[, -ncol(train)]))\n",
        "  train_error_xgb <- mean(train_pred_xgb != (as.integer(train$Tipo) - 1))\n",
        "\n",
        "  test_pred_xgb <- predict(m.xgb, as.matrix(test[, -ncol(test)]))\n",
        "  test_error_xgb <- mean(test_pred_xgb != (as.integer(test$Tipo) - 1))\n",
        "\n",
        "  final_results_xgb <- rbind(final_results_xgb, data.frame(LearningRate = best_lr,\n",
        "                                                           Prof = best_max_depth,\n",
        "                                                           Train_Error = train_error_xgb,\n",
        "                                                           Test_Error = test_error_xgb))\n",
        "}"
      ],
      "metadata": {
        "id": "DgvEn_LvIuZO"
      },
      "execution_count": 25,
      "outputs": []
    },
    {
      "cell_type": "code",
      "source": [
        "print(kable(final_results_xgb, format.args = list(scientific = FALSE), align = \"r\"))"
      ],
      "metadata": {
        "id": "2j0fZst5IuZO",
        "colab": {
          "base_uri": "https://localhost:8080/"
        },
        "outputId": "65ff4178-baf3-4742-b1c4-b6a6f3b88358"
      },
      "execution_count": 26,
      "outputs": [
        {
          "output_type": "stream",
          "name": "stdout",
          "text": [
            "\n",
            "\n",
            "| LearningRate| Prof| Train_Error| Test_Error|\n",
            "|------------:|----:|-----------:|----------:|\n",
            "|         0.01|    3|   0.0194759|  0.0354108|\n"
          ]
        }
      ]
    },
    {
      "cell_type": "markdown",
      "source": [
        "### SVM RBF"
      ],
      "metadata": {
        "id": "3CeOXRCvIuZO"
      }
    },
    {
      "cell_type": "code",
      "source": [
        "final_results_svmrbf <- data.frame(Cost = numeric(), Gamma = numeric(), Train_Error = numeric(), Test_Error = numeric(), stringsAsFactors = FALSE)\n",
        "\n",
        "for (i in 1:nrow(best_results_svmrbf)) {\n",
        "  # Obtener los parámetros de la fila actual\n",
        "  best_cost <- best_results_svmrbf$Cost[i]\n",
        "  best_gamma <- best_results_svmrbf$Gamma[i]\n",
        "\n",
        "  # Entrenar el modelo SVM con los mejores parámetros\n",
        "  suppressWarnings(svm_model <- svm(\n",
        "    Tipo ~ .,\n",
        "    data = train,\n",
        "    type = 'C-classification',\n",
        "    kernel = \"radial\",\n",
        "    cost = best_cost,\n",
        "    gamma = best_gamma\n",
        "  ))\n",
        "\n",
        "  train_pred_svmrbf <- predict(svm_model, train[, -ncol(train)])\n",
        "  train_error_svmrbf <- mean(train_pred_svmrbf != train$Tipo)\n",
        "\n",
        "  test_pred_svmrbf <- predict(svm_model, test[, -ncol(test)])\n",
        "  test_error_svmrbf <- mean(test_pred_svmrbf != test$Tipo)\n",
        "\n",
        "  # Guardar los resultados en el dataframe\n",
        "  final_results_svmrbf <- rbind(final_results_svmrbf, data.frame(Cost = best_cost, Gamma = best_gamma, Train_Error = train_error_svmrbf, Test_Error = test_error_svmrbf))\n",
        "}\n"
      ],
      "metadata": {
        "id": "GLAIjDHKIuZP"
      },
      "execution_count": 27,
      "outputs": []
    },
    {
      "cell_type": "code",
      "source": [
        "print(kable(final_results_svmrbf, format.args = list(scientific = FALSE), align = \"r\"))"
      ],
      "metadata": {
        "id": "yTeRLgZ2IuZP",
        "colab": {
          "base_uri": "https://localhost:8080/"
        },
        "outputId": "e3cd946b-0a6c-4ae6-bac4-591f6cf75dac"
      },
      "execution_count": 28,
      "outputs": [
        {
          "output_type": "stream",
          "name": "stdout",
          "text": [
            "\n",
            "\n",
            "| Cost| Gamma| Train_Error| Test_Error|\n",
            "|----:|-----:|-----------:|----------:|\n",
            "| 1000| 0.001|   0.0435552|  0.0715297|\n"
          ]
        }
      ]
    },
    {
      "cell_type": "markdown",
      "source": [
        "### SVM Polinomial"
      ],
      "metadata": {
        "id": "T8874DOMIuZP"
      }
    },
    {
      "cell_type": "code",
      "source": [
        "final_results_svmp <- data.frame(Cost = numeric(), Gamma = numeric(), Degree = integer(), Train_Error = numeric(), Test_Error = numeric(), stringsAsFactors = FALSE)\n",
        "\n",
        "for (i in 1:nrow(best_results_svmp)) {\n",
        "  best_cost <- best_results_svmp$Cost[i]\n",
        "  best_gamma <- best_results_svmp$Gamma[i]\n",
        "  best_degree <- best_results_svmp$Degree[i]\n",
        "\n",
        "  suppressWarnings(svm_model <- svm(\n",
        "    Tipo ~ .,\n",
        "    data = train,\n",
        "    type = 'C-classification',\n",
        "    kernel = \"polynomial\",\n",
        "    degree = best_degree,\n",
        "    cost = best_cost,\n",
        "    gamma = best_gamma\n",
        "  ))\n",
        "\n",
        "  train_pred_svmpol <- predict(svm_model, train[, -ncol(train)])\n",
        "  train_error_svmpol <- mean(train_pred_svmpol != train$Tipo)\n",
        "\n",
        "  test_pred_svmpol <- predict(svm_model, test[, -ncol(test)])\n",
        "  test_error_svmpol <- mean(test_pred_svmpol != test$Tipo)\n",
        "\n",
        "  final_results_svmp <- rbind(final_results_svmp, data.frame(Cost = best_cost, Gamma = best_gamma, Degree = best_degree, Train_Error = train_error_svmpol, Test_Error = test_error_svmpol))\n",
        "}"
      ],
      "metadata": {
        "id": "X9DoCEZGIuZP"
      },
      "execution_count": 29,
      "outputs": []
    },
    {
      "cell_type": "code",
      "execution_count": 30,
      "metadata": {
        "id": "z_79ym9ZIuZP",
        "colab": {
          "base_uri": "https://localhost:8080/"
        },
        "outputId": "c6148fed-203a-41b3-8c7d-344df6f72bca"
      },
      "outputs": [
        {
          "output_type": "stream",
          "name": "stdout",
          "text": [
            "\n",
            "\n",
            "| Cost| Gamma| Degree| Train_Error| Test_Error|\n",
            "|----:|-----:|------:|-----------:|----------:|\n",
            "|   10|    10|      1|   0.0949008|  0.0871105|\n"
          ]
        }
      ],
      "source": [
        "print(kable(final_results_svmp, format.args = list(scientific = FALSE), align = \"r\"))"
      ]
    },
    {
      "cell_type": "markdown",
      "source": [
        "### Gráfica"
      ],
      "metadata": {
        "id": "04p0LJ8LIuZP"
      }
    },
    {
      "cell_type": "code",
      "source": [
        "modelos <- c(\"RF\", \"Boosting\", \"SVM RBF\", \"SVM P\")\n",
        "errores_test <- c(min(final_results_rf$Test_Error), min(final_results_xgb$Test_Error), min(final_results_svmrbf$Test_Error), min(final_results_svmp$Test_Error))\n",
        "\n",
        "barplot(height = errores_test,\n",
        "        names.arg = modelos,\n",
        "        xlab = \"Modelo\",\n",
        "        ylab = \"Error\",\n",
        "        col = \"lightblue\",\n",
        "        border = \"blue\",\n",
        "        main = \"Errores en Test de los Modelos\")"
      ],
      "metadata": {
        "id": "J7emMyzJIuZQ",
        "colab": {
          "base_uri": "https://localhost:8080/",
          "height": 437
        },
        "outputId": "ee772c10-89b8-494e-da6d-249dd8e884be"
      },
      "execution_count": 31,
      "outputs": [
        {
          "output_type": "display_data",
          "data": {
            "text/plain": [
              "Plot with title “Errores en Test de los Modelos”"
            ],
            "image/png": "[encoded data removed]"
          },
          "metadata": {
            "image/png": {
              "width": 420,
              "height": 420
            }
          }
        }
      ]
    },
    {
      "cell_type": "markdown",
      "source": [
        "Podemos ver que XGBoosting fue el mejor método siguiendole muy cerca RandomForest, teniendo en cuenta que el tiempo para entrenar y optimizar los parámetros fue mucho menor para RandomForest, me sigue pareciendo el mejor método si no contamos con el tiempo para optimizar al máximo.\n",
        "\n",
        "Los métodos de kernel obtuvieron errores bastante altos por lo que parece ser que para este problema no son particularmete útiles."
      ],
      "metadata": {
        "id": "zMv9oyWOyEeu"
      }
    }
  ],
  "metadata": {
    "colab": {
      "collapsed_sections": [
        "VPfFa4TyJV3y",
        "wwctV7Jww7bQ",
        "hQucYg716f9k",
        "bFX7n4NKDVde",
        "RQAC9E1pLy38",
        "SN4upKoAV0Ks",
        "D7cZS-1ShpeD",
        "IapuvlDQVD6m",
        "CpIS2NO-eoP9",
        "jbfQqrhoeoP-"
      ],
      "provenance": []
    },
    "kernelspec": {
      "display_name": "R",
      "name": "ir"
    },
    "language_info": {
      "name": "R"
    }
  },
  "nbformat": 4,
  "nbformat_minor": 0
}